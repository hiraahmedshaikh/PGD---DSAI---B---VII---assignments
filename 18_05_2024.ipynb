{
  "nbformat": 4,
  "nbformat_minor": 0,
  "metadata": {
    "colab": {
      "provenance": []
    },
    "kernelspec": {
      "name": "python3",
      "display_name": "Python 3"
    },
    "language_info": {
      "name": "python"
    }
  },
  "cells": [
    {
      "cell_type": "markdown",
      "source": [
        "# **FUNCTIONS**"
      ],
      "metadata": {
        "id": "LiAspeqSs43e"
      }
    },
    {
      "cell_type": "code",
      "execution_count": 1,
      "metadata": {
        "colab": {
          "base_uri": "https://localhost:8080/"
        },
        "id": "905X-0g4pySd",
        "outputId": "b48b8a90-272b-48f2-f4e8-493b8e725c02"
      },
      "outputs": [
        {
          "output_type": "execute_result",
          "data": {
            "text/plain": [
              "8"
            ]
          },
          "metadata": {},
          "execution_count": 1
        }
      ],
      "source": [
        "def cube():\n",
        "  x = 2**3\n",
        "  return x\n",
        "cube()"
      ]
    },
    {
      "cell_type": "markdown",
      "source": [
        "**DYNAMIC FUNCTION WITH USER INPUT**"
      ],
      "metadata": {
        "id": "BlrGKC8htN7E"
      }
    },
    {
      "cell_type": "code",
      "source": [
        "i = int(input(\"enter a number: \"))\n",
        "def cube():\n",
        "  x = i**3\n",
        "  return x\n",
        "cube()"
      ],
      "metadata": {
        "colab": {
          "base_uri": "https://localhost:8080/"
        },
        "id": "nuuwKLJNsGPy",
        "outputId": "b4949274-9c33-422a-c3d2-a0b618f5f0cd"
      },
      "execution_count": 3,
      "outputs": [
        {
          "name": "stdout",
          "output_type": "stream",
          "text": [
            "enter a number: 5\n"
          ]
        },
        {
          "output_type": "execute_result",
          "data": {
            "text/plain": [
              "125"
            ]
          },
          "metadata": {},
          "execution_count": 3
        }
      ]
    },
    {
      "cell_type": "code",
      "source": [
        "i = int(input(\"enter a number: \"))\n",
        "def square():\n",
        "  x = i**2\n",
        "  return x\n",
        "square()"
      ],
      "metadata": {
        "colab": {
          "base_uri": "https://localhost:8080/"
        },
        "id": "XWQBQEk3seQP",
        "outputId": "261d465c-20f1-42f8-cbb9-0bfd0a788032"
      },
      "execution_count": 4,
      "outputs": [
        {
          "name": "stdout",
          "output_type": "stream",
          "text": [
            "enter a number: 2\n"
          ]
        },
        {
          "output_type": "execute_result",
          "data": {
            "text/plain": [
              "4"
            ]
          },
          "metadata": {},
          "execution_count": 4
        }
      ]
    },
    {
      "cell_type": "code",
      "source": [
        "num1 = int(input(\"enter 1st number: \"))\n",
        "num2 = int(input(\"enter 2nd number: \"))\n",
        "num3 = int(input(\"enter 3rd number: \"))\n",
        "num4 = int(input(\"enter 4th number: \"))\n",
        "\n",
        "def avg():\n",
        "  x = (num1+num2+num3+num4)/4\n",
        "  return x\n",
        "avg()"
      ],
      "metadata": {
        "colab": {
          "base_uri": "https://localhost:8080/"
        },
        "id": "3S5FguTYtXMm",
        "outputId": "94c2dc69-b8de-4d8b-dc0e-9b3822252d84"
      },
      "execution_count": 6,
      "outputs": [
        {
          "name": "stdout",
          "output_type": "stream",
          "text": [
            "enter 1st number: 3\n",
            "enter 2nd number: 4\n",
            "enter 3rd number: 3\n",
            "enter 4th number: 4\n"
          ]
        },
        {
          "output_type": "execute_result",
          "data": {
            "text/plain": [
              "3.5"
            ]
          },
          "metadata": {},
          "execution_count": 6
        }
      ]
    },
    {
      "cell_type": "code",
      "source": [
        "num1 = int(input(\"enter 1st number: \"))\n",
        "num2 = int(input(\"enter 2nd number: \"))\n",
        "num3 = int(input(\"enter 3rd number: \"))\n",
        "num4 = int(input(\"enter 4th number: \"))\n",
        "\n",
        "def avg():\n",
        "  x = (num1+num2+num3+num4)\n",
        "  z = x/4\n",
        "  return z\n",
        "avg()"
      ],
      "metadata": {
        "colab": {
          "base_uri": "https://localhost:8080/"
        },
        "id": "hdIAcnKnv9wM",
        "outputId": "88e155f9-0775-4e3d-e6cf-6b7b3893ceb7"
      },
      "execution_count": 30,
      "outputs": [
        {
          "name": "stdout",
          "output_type": "stream",
          "text": [
            "enter 1st number: 2\n",
            "enter 2nd number: 3\n",
            "enter 3rd number: 2\n",
            "enter 4th number: 3\n"
          ]
        },
        {
          "output_type": "execute_result",
          "data": {
            "text/plain": [
              "2.5"
            ]
          },
          "metadata": {},
          "execution_count": 30
        }
      ]
    },
    {
      "cell_type": "code",
      "source": [
        "fname = input(\"enter your first name: \")\n",
        "lname = input(\"enter your last name: \")\n",
        "\n",
        "def myfunc(fname,lname):\n",
        "  print(\"First Name: \"+fname+\" \"+lname)\n",
        "myfunc(fname,lname)"
      ],
      "metadata": {
        "colab": {
          "base_uri": "https://localhost:8080/"
        },
        "id": "xFUzXL7yzUDR",
        "outputId": "d967e279-0c87-4152-b698-8d8fde68c12d"
      },
      "execution_count": 12,
      "outputs": [
        {
          "output_type": "stream",
          "name": "stdout",
          "text": [
            "enter your first name: Hira\n",
            "enter your last name: Ahmed\n",
            "First Name: Hira Ahmed\n"
          ]
        }
      ]
    },
    {
      "cell_type": "code",
      "source": [
        "def myfunc(fname, lname, age, qualification):\n",
        "    print(\"Name: \" + fname + \" \" + lname)\n",
        "    print(\"Age: \" + str(age))\n",
        "    print(\"Qualification: \" + qualification)\n",
        "\n",
        "fname = input(\"Enter your first name: \")\n",
        "lname = input(\"Enter your last name: \")\n",
        "age = int(input(\"Enter your age: \"))\n",
        "qualification = input(\"Enter your qualification: \")\n",
        "\n",
        "myfunc(fname, lname, age, qualification)"
      ],
      "metadata": {
        "colab": {
          "base_uri": "https://localhost:8080/"
        },
        "id": "D-y8mZy80J1f",
        "outputId": "4caa6084-eaa9-417f-f4fc-a50bcab0e829"
      },
      "execution_count": 14,
      "outputs": [
        {
          "output_type": "stream",
          "name": "stdout",
          "text": [
            "Enter your first name: Hira\n",
            "Enter your last name: Ahmed\n",
            "Enter your age: 35\n",
            "Enter your qualification: MBA\n",
            "Name: Hira Ahmed\n",
            "Age: 35\n",
            "Qualification: MBA\n"
          ]
        }
      ]
    },
    {
      "cell_type": "code",
      "source": [
        "def myfunc():\n",
        "    print(\"Name: \" + fname + \" \" + lname)\n",
        "    print(\"Age: \" + str(age))\n",
        "    print(\"Qualification: \" + qualification)\n",
        "\n",
        "fname = input(\"Enter your first name: \")\n",
        "lname = input(\"Enter your last name: \")\n",
        "age = int(input(\"Enter your age: \"))\n",
        "qualification = input(\"Enter your qualification: \")\n",
        "\n",
        "myfunc(fname, lname, age, qualification)"
      ],
      "metadata": {
        "colab": {
          "base_uri": "https://localhost:8080/",
          "height": 245
        },
        "id": "9xCa2a3H2y3M",
        "outputId": "ba7d4c31-f788-41f7-b7e1-afaab4c33cd7"
      },
      "execution_count": 13,
      "outputs": [
        {
          "name": "stdout",
          "output_type": "stream",
          "text": [
            "Enter your first name: Hira\n",
            "Enter your last name: Ahmed\n",
            "Enter your age: 35\n",
            "Enter your qualification: MBA\n"
          ]
        },
        {
          "output_type": "error",
          "ename": "TypeError",
          "evalue": "myfunc() takes 0 positional arguments but 4 were given",
          "traceback": [
            "\u001b[0;31m---------------------------------------------------------------------------\u001b[0m",
            "\u001b[0;31mTypeError\u001b[0m                                 Traceback (most recent call last)",
            "\u001b[0;32m<ipython-input-13-cd815e393943>\u001b[0m in \u001b[0;36m<cell line: 11>\u001b[0;34m()\u001b[0m\n\u001b[1;32m      9\u001b[0m \u001b[0mqualification\u001b[0m \u001b[0;34m=\u001b[0m \u001b[0minput\u001b[0m\u001b[0;34m(\u001b[0m\u001b[0;34m\"Enter your qualification: \"\u001b[0m\u001b[0;34m)\u001b[0m\u001b[0;34m\u001b[0m\u001b[0;34m\u001b[0m\u001b[0m\n\u001b[1;32m     10\u001b[0m \u001b[0;34m\u001b[0m\u001b[0m\n\u001b[0;32m---> 11\u001b[0;31m \u001b[0mmyfunc\u001b[0m\u001b[0;34m(\u001b[0m\u001b[0mfname\u001b[0m\u001b[0;34m,\u001b[0m \u001b[0mlname\u001b[0m\u001b[0;34m,\u001b[0m \u001b[0mage\u001b[0m\u001b[0;34m,\u001b[0m \u001b[0mqualification\u001b[0m\u001b[0;34m)\u001b[0m\u001b[0;34m\u001b[0m\u001b[0;34m\u001b[0m\u001b[0m\n\u001b[0m",
            "\u001b[0;31mTypeError\u001b[0m: myfunc() takes 0 positional arguments but 4 were given"
          ]
        }
      ]
    },
    {
      "cell_type": "code",
      "source": [
        "num = int(input(\"Enter a number: \"))\n",
        "def factorial(num):\n",
        "  if num<=1 :\n",
        "    return 1\n",
        "  else:\n",
        "    return num * factorial(num-1)\n",
        "\n",
        "factorial(num)"
      ],
      "metadata": {
        "colab": {
          "base_uri": "https://localhost:8080/"
        },
        "id": "dlfpCbdg21L5",
        "outputId": "cc0c25b1-d9e8-40e3-bad3-c7cee87ec881"
      },
      "execution_count": 20,
      "outputs": [
        {
          "name": "stdout",
          "output_type": "stream",
          "text": [
            "Enter a number: 24\n"
          ]
        },
        {
          "output_type": "execute_result",
          "data": {
            "text/plain": [
              "620448401733239439360000"
            ]
          },
          "metadata": {},
          "execution_count": 20
        }
      ]
    },
    {
      "cell_type": "code",
      "source": [
        "length = int(input(\"Enter length of an area: \"))\n",
        "breadth = int(input(\"Enter breadth of an area: \"))\n",
        "\n",
        "def area(length, breadth):\n",
        "  print(\"Area is: \", length*breadth)\n",
        "area(length, breadth)\n",
        "\n",
        "def perimeter(length, breadth):\n",
        "  print(\"Perimeter is: \", 2 * (length+breadth))\n",
        "perimeter(length, breadth)"
      ],
      "metadata": {
        "colab": {
          "base_uri": "https://localhost:8080/"
        },
        "id": "WS6zbaBr6jD5",
        "outputId": "880dc444-c7f6-401c-9c9f-140b4d5815a6"
      },
      "execution_count": 29,
      "outputs": [
        {
          "output_type": "stream",
          "name": "stdout",
          "text": [
            "Enter length of an area: 2\n",
            "Enter breadth of an area: 2\n",
            "Area is:  4\n",
            "Perimeter is:  8\n"
          ]
        }
      ]
    },
    {
      "cell_type": "code",
      "source": [],
      "metadata": {
        "id": "wi8Ny2S_ATPF"
      },
      "execution_count": null,
      "outputs": []
    }
  ]
}