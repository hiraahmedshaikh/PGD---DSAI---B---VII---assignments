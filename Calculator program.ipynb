{
 "cells": [
  {
   "cell_type": "code",
   "execution_count": null,
   "id": "4b3b7e3c-20b9-4fc0-81c8-c865424e7a22",
   "metadata": {},
   "outputs": [],
   "source": [
    "# Create a program which takes two operands and one operator from user and your calculator will be able perform these operation \n",
    "    # Addition\n",
    "    # subtraction\n",
    "    # Multiplication\n",
    "    # Division\n",
    "    # square root of a number \n",
    "    # power of a number"
   ]
  },
  {
   "cell_type": "code",
   "execution_count": 2,
   "id": "9220e876-eb29-48ea-93a0-a7dd0184e2c6",
   "metadata": {},
   "outputs": [],
   "source": [
    "import math"
   ]
  },
  {
   "cell_type": "code",
   "execution_count": 8,
   "id": "01d5348b-7784-4cee-abc3-349b28d7a594",
   "metadata": {},
   "outputs": [
    {
     "name": "stdin",
     "output_type": "stream",
     "text": [
      "Enter operation (+, -, *, /, sqrt, **):  +\n",
      "Enter first number:  12\n",
      "Enter second number:  12\n"
     ]
    },
    {
     "name": "stdout",
     "output_type": "stream",
     "text": [
      "Result: 24.0\n"
     ]
    }
   ],
   "source": [
    "def calculator():\n",
    "    operation = input(\"Enter operation (+, -, *, /, sqrt, **): \")\n",
    "\n",
    "    if operation == 'sqrt':\n",
    "        num = float(input(\"Enter number: \")) \n",
    "        result = math.sqrt(num)\n",
    "    else:\n",
    "        num1 = float(input(\"Enter first number: \"))\n",
    "        num2 = float(input(\"Enter second number: \"))\n",
    "\n",
    "        if operation == '+':\n",
    "            result = num1 + num2\n",
    "        elif operation == '-':\n",
    "            result = num1 - num2\n",
    "        elif operation == '*':\n",
    "            result = num1 * num2\n",
    "        elif operation == '/':\n",
    "            if num2 == 0:\n",
    "                result = \"Error! Division by zero.\"\n",
    "            else:\n",
    "                result = num1 / num2\n",
    "        elif operation == '^':\n",
    "            result = num1 ** num2\n",
    "        else:\n",
    "            result = \"Invalid operation!\"\n",
    "\n",
    "    print(\"Result:\", result)\n",
    "\n",
    "calculator()"
   ]
  },
  {
   "cell_type": "code",
   "execution_count": null,
   "id": "dfba3b1a-4ab4-4a84-b290-d50c2ba00ece",
   "metadata": {},
   "outputs": [],
   "source": []
  }
 ],
 "metadata": {
  "kernelspec": {
   "display_name": "Python 3 (ipykernel)",
   "language": "python",
   "name": "python3"
  },
  "language_info": {
   "codemirror_mode": {
    "name": "ipython",
    "version": 3
   },
   "file_extension": ".py",
   "mimetype": "text/x-python",
   "name": "python",
   "nbconvert_exporter": "python",
   "pygments_lexer": "ipython3",
   "version": "3.11.7"
  }
 },
 "nbformat": 4,
 "nbformat_minor": 5
}
