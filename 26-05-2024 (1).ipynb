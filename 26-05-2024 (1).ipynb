{
 "cells": [
  {
   "cell_type": "code",
   "execution_count": 2,
   "id": "f1577c04-a201-41c9-ad26-610d4da60af8",
   "metadata": {},
   "outputs": [],
   "source": [
    "import calculator #importing custom libraries  "
   ]
  },
  {
   "cell_type": "code",
   "execution_count": 3,
   "id": "c4dec95d-dbb9-42c8-a6dc-4e551739f4cd",
   "metadata": {},
   "outputs": [
    {
     "data": {
      "text/plain": [
       "16"
      ]
     },
     "execution_count": 3,
     "metadata": {},
     "output_type": "execute_result"
    }
   ],
   "source": [
    "calculator.square(4)"
   ]
  },
  {
   "cell_type": "code",
   "execution_count": 4,
   "id": "8ec1e27e-7004-4e4d-8278-e8ab561f0478",
   "metadata": {},
   "outputs": [
    {
     "data": {
      "text/plain": [
       "10"
      ]
     },
     "execution_count": 4,
     "metadata": {},
     "output_type": "execute_result"
    }
   ],
   "source": [
    "calculator.addition(4,6)"
   ]
  },
  {
   "cell_type": "code",
   "execution_count": 5,
   "id": "01e063a1-554e-45fe-bc49-f1839c60137a",
   "metadata": {},
   "outputs": [
    {
     "data": {
      "text/plain": [
       "64"
      ]
     },
     "execution_count": 5,
     "metadata": {},
     "output_type": "execute_result"
    }
   ],
   "source": [
    "calculator.cube(4)"
   ]
  },
  {
   "cell_type": "code",
   "execution_count": 6,
   "id": "65964484-fc3c-4aa1-84e8-fbb11d37c0e3",
   "metadata": {},
   "outputs": [
    {
     "data": {
      "text/plain": [
       "4"
      ]
     },
     "execution_count": 6,
     "metadata": {},
     "output_type": "execute_result"
    }
   ],
   "source": [
    "calculator.remainder(4,8)"
   ]
  },
  {
   "cell_type": "code",
   "execution_count": 7,
   "id": "0265e759-1635-4fbc-82da-e912c1bbc64f",
   "metadata": {},
   "outputs": [
    {
     "data": {
      "text/plain": [
       "3"
      ]
     },
     "execution_count": 7,
     "metadata": {},
     "output_type": "execute_result"
    }
   ],
   "source": [
    "calculator.substraction(8,5)"
   ]
  },
  {
   "cell_type": "code",
   "execution_count": 8,
   "id": "a120b190-ccfd-49b5-92c0-10318fb5079e",
   "metadata": {},
   "outputs": [
    {
     "data": {
      "text/plain": [
       "9"
      ]
     },
     "execution_count": 8,
     "metadata": {},
     "output_type": "execute_result"
    }
   ],
   "source": [
    "calculator.multiply(3,3)"
   ]
  },
  {
   "cell_type": "code",
   "execution_count": null,
   "id": "376795f6-c9f2-4614-97e9-24c89720b569",
   "metadata": {},
   "outputs": [],
   "source": []
  }
 ],
 "metadata": {
  "kernelspec": {
   "display_name": "Python 3 (ipykernel)",
   "language": "python",
   "name": "python3"
  },
  "language_info": {
   "codemirror_mode": {
    "name": "ipython",
    "version": 3
   },
   "file_extension": ".py",
   "mimetype": "text/x-python",
   "name": "python",
   "nbconvert_exporter": "python",
   "pygments_lexer": "ipython3",
   "version": "3.11.7"
  }
 },
 "nbformat": 4,
 "nbformat_minor": 5
}
