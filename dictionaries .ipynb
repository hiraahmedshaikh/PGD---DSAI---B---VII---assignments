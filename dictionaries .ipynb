{
 "cells": [
  {
   "cell_type": "code",
   "execution_count": null,
   "id": "5b73d7b0",
   "metadata": {},
   "outputs": [],
   "source": [
    "Certainly! Let's differentiate between lists, dictionaries, and tuples:\n",
    "\n",
    "1. **List:**\n",
    "   - A list is a collection of items that are ordered and mutable, meaning you can change, add, or remove elements after the list has been created.\n",
    "   - Lists are denoted by square brackets `[ ]`.\n",
    "   - Elements in a list are accessed by their index.\n",
    "   - Example: `my_list = [1, 2, 3, 4, 5]`\n",
    "\n",
    "2. **Dictionary:**\n",
    "   - A dictionary is a collection of key-value pairs. Each key is associated with a value, and the key-value pairs are unordered and mutable.\n",
    "   - Dictionaries are denoted by curly braces `{ }`.\n",
    "   - Elements in a dictionary are accessed by their keys rather than by their index.\n",
    "   - Example: `my_dict = {\"name\": \"Alice\", \"age\": 30, \"city\": \"New York\"}`\n",
    "\n",
    "3. **Tuple:**\n",
    "   - A tuple is a collection of items that are ordered and immutable, meaning once the tuple is created, you cannot change its elements.\n",
    "   - Tuples are denoted by parentheses `( )`.\n",
    "   - Elements in a tuple are accessed by their index, similar to lists.\n",
    "   - Example: `my_tuple = (1, 2, 3, 4, 5)`\n",
    "\n",
    "Here's a summary of the key differences between them:\n",
    "\n",
    "- **Mutability:** Lists and dictionaries are mutable, meaning their elements or key-value pairs can be modified after creation. Tuples, on the other hand, are immutable and cannot be changed.\n",
    "  \n",
    "- **Order:** Lists and tuples maintain the order of elements, meaning the order in which elements are inserted is preserved. Dictionaries, however, do not maintain any order among the key-value pairs.\n",
    "\n",
    "- **Accessing Elements:** In lists and tuples, elements are accessed by their index. In dictionaries, values are accessed by their keys.\n",
    "\n",
    "- **Syntax:** Lists are denoted by square brackets `[ ]`, dictionaries by curly braces `{ }`, and tuples by parentheses `( )`.\n",
    "\n",
    "- **Use Cases:** Lists are typically used for storing collections of similar items, while dictionaries are used for storing key-value pairs where each key maps to a value. Tuples are often used when you want to represent a fixed collection of elements that should not be changed.\n",
    "\n",
    "Understanding these differences will help you choose the appropriate data structure for your specific needs in Python."
   ]
  },
  {
   "cell_type": "code",
   "execution_count": null,
   "id": "08667e0e",
   "metadata": {},
   "outputs": [],
   "source": [
    "list=[comma sperated values]\n",
    "list[0]\n",
    "dictionary = {\"a\":\"apple\"} \n",
    "dictionary = {\"key\":\"value\"} "
   ]
  },
  {
   "cell_type": "code",
   "execution_count": null,
   "id": "3cc0ca4c",
   "metadata": {},
   "outputs": [],
   "source": [
    "dictionary = {\"student1\":\"sana\", \"student1\":\"sana\"} "
   ]
  },
  {
   "cell_type": "code",
   "execution_count": 1,
   "id": "a7461bdb",
   "metadata": {},
   "outputs": [],
   "source": [
    "# Creating a dictionary\n",
    "person = {\"name\": \"Alice\", \"age\": 30, \"city\": \"New York\"}\n",
    "\n"
   ]
  },
  {
   "cell_type": "code",
   "execution_count": 3,
   "id": "ccabeb62",
   "metadata": {},
   "outputs": [
    {
     "name": "stdout",
     "output_type": "stream",
     "text": [
      "New York\n"
     ]
    }
   ],
   "source": [
    "print(person[\"city\"])"
   ]
  },
  {
   "cell_type": "code",
   "execution_count": null,
   "id": "ca06e724",
   "metadata": {},
   "outputs": [],
   "source": [
    "# Accessing elements\n",
    "  # Output: Alice\n",
    "# print(person[\"age\"])   # Output: 30\n",
    "# print(person[\"city\"])  # Output: New York\n"
   ]
  },
  {
   "cell_type": "code",
   "execution_count": 4,
   "id": "e1befa03",
   "metadata": {},
   "outputs": [
    {
     "name": "stdout",
     "output_type": "stream",
     "text": [
      "35\n"
     ]
    }
   ],
   "source": [
    "# Modifying values in a dictionary\n",
    "person = {\"name\": \"Alice\", \"age\": 30, \"city\": \"New York\"}\n",
    "\n",
    "# Modifying the value associated with the \"age\" key\n",
    "person[\"age\"] = 35\n",
    "print(person[\"age\"])  # Output: 35\n"
   ]
  },
  {
   "cell_type": "code",
   "execution_count": 5,
   "id": "1c2a6a14",
   "metadata": {},
   "outputs": [
    {
     "data": {
      "text/plain": [
       "{'name': 'Alice', 'age': 35, 'city': 'New York'}"
      ]
     },
     "execution_count": 5,
     "metadata": {},
     "output_type": "execute_result"
    }
   ],
   "source": [
    "person"
   ]
  },
  {
   "cell_type": "code",
   "execution_count": 6,
   "id": "4ae38666",
   "metadata": {},
   "outputs": [
    {
     "name": "stdout",
     "output_type": "stream",
     "text": [
      "Name exists in the dictionary.\n"
     ]
    }
   ],
   "source": [
    "# Checking if a key exists in a dictionary\n",
    "person = {\"name\": \"Alice\", \"age\": 30, \"city\": \"New York\"}\n",
    "\n",
    "if \"name\" in person:\n",
    "    print(\"Name exists in the dictionary.\")\n",
    "else:\n",
    "    print(\"Name does not exist in the dictionary.\")\n"
   ]
  },
  {
   "cell_type": "code",
   "execution_count": 7,
   "id": "d3973a29",
   "metadata": {},
   "outputs": [
    {
     "name": "stdout",
     "output_type": "stream",
     "text": [
      "3\n"
     ]
    }
   ],
   "source": [
    "# Getting the length of a dictionary\n",
    "person = {\"name\": \"Alice\", \"age\": 30, \"city\": \"New York\"}\n",
    "\n",
    "print(len(person))  # Output: 3\n"
   ]
  },
  {
   "cell_type": "code",
   "execution_count": null,
   "id": "cbd7099e",
   "metadata": {},
   "outputs": [],
   "source": [
    "# Iterating through a dictionary\n",
    "person = {\"name\": \"Alice\", \"age\": 30, \"city\": \"New York\"}\n",
    "\n",
    "\n"
   ]
  },
  {
   "cell_type": "code",
   "execution_count": null,
   "id": "15aa8d43",
   "metadata": {},
   "outputs": [],
   "source": [
    "# Using dictionary methods\n",
    "person = {\"name\": \"Alice\", \"age\": 30, \"city\": \"New York\"}\n",
    "\n",
    "# Copying a dictionary\n",
    "person_copy = person.copy()\n",
    "\n",
    "# Clearing a dictionary\n",
    "person.clear()\n",
    "\n",
    "print(person)        # Output: {}\n",
    "print(person_copy)   # Output: {'name': 'Alice', 'age': 30, 'city': 'New York'}\n"
   ]
  },
  {
   "cell_type": "code",
   "execution_count": null,
   "id": "2a363447",
   "metadata": {},
   "outputs": [],
   "source": [
    "# Iterating through keys\n",
    "for key in person:\n",
    "    print(key)\n",
    "\n"
   ]
  },
  {
   "cell_type": "code",
   "execution_count": null,
   "id": "a9cb9cb2",
   "metadata": {},
   "outputs": [],
   "source": [
    "# Iterating through values\n",
    "for value in person.values():\n",
    "    print(value)\n",
    "\n"
   ]
  },
  {
   "cell_type": "code",
   "execution_count": null,
   "id": "f0a53aba",
   "metadata": {},
   "outputs": [],
   "source": [
    "# Iterating through key-value pairs\n",
    "for key, value in person.items():\n",
    "    print(key + \": \" + str(value))"
   ]
  },
  {
   "cell_type": "code",
   "execution_count": null,
   "id": "a48983bc",
   "metadata": {},
   "outputs": [],
   "source": [
    "# Adding and removing items from a dictionary\n",
    "person = {\"name\": \"Alice\", \"age\": 30}\n",
    "\n",
    "# Adding a new key-value pair\n",
    "person[\"city\"] = \"New York\"\n",
    "print(person)  # Output: {'name': 'Alice', 'age': 30, 'city': 'New York'}\n",
    "\n",
    "\n"
   ]
  },
  {
   "cell_type": "code",
   "execution_count": null,
   "id": "3a32a1c5",
   "metadata": {},
   "outputs": [],
   "source": [
    "# Removing a key-value pair\n",
    "del person[\"age\"]\n",
    "print(person)  # Output: {'name': 'Alice', 'city': 'New York'}"
   ]
  }
 ],
 "metadata": {
  "kernelspec": {
   "display_name": "Python 3 (ipykernel)",
   "language": "python",
   "name": "python3"
  },
  "language_info": {
   "codemirror_mode": {
    "name": "ipython",
    "version": 3
   },
   "file_extension": ".py",
   "mimetype": "text/x-python",
   "name": "python",
   "nbconvert_exporter": "python",
   "pygments_lexer": "ipython3",
   "version": "3.11.5"
  }
 },
 "nbformat": 4,
 "nbformat_minor": 5
}
