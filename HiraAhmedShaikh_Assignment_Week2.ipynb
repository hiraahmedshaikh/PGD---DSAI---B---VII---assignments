{
  "nbformat": 4,
  "nbformat_minor": 0,
  "metadata": {
    "colab": {
      "provenance": [],
      "authorship_tag": "ABX9TyPYCYOzH7PLXEAaJQ2Katkd",
      "include_colab_link": true
    },
    "kernelspec": {
      "name": "python3",
      "display_name": "Python 3"
    },
    "language_info": {
      "name": "python"
    }
  },
  "cells": [
    {
      "cell_type": "markdown",
      "metadata": {
        "id": "view-in-github",
        "colab_type": "text"
      },
      "source": [
        "<a href=\"https://colab.research.google.com/github/hiraahmedshaikh/PGD---DSAI---B---VII---assignments/blob/main/HiraAhmedShaikh_Assignment_Week2.ipynb\" target=\"_parent\"><img src=\"https://colab.research.google.com/assets/colab-badge.svg\" alt=\"Open In Colab\"/></a>"
      ]
    },
    {
      "cell_type": "markdown",
      "source": [
        "# Task 1"
      ],
      "metadata": {
        "id": "w8mhO6q5gBWw"
      }
    },
    {
      "cell_type": "code",
      "source": [
        "# Get user input using input(“Enter your age: ”). If user is 18 or older, give feedback: You are old enough to drive. If below 18 give feedback to wait for the missing amount of years.\n",
        "Age = int(input(\"Enter your Age : \"))\n",
        "\n",
        "if Age >=18:\n",
        "  print(\"you are old enough to drive\")\n",
        "else:\n",
        "  print(\"wait for the\", 18-Age , \"year(s)\")"
      ],
      "metadata": {
        "colab": {
          "base_uri": "https://localhost:8080/"
        },
        "id": "SdXYOXPDf7eq",
        "outputId": "dca757fc-1df0-4e5e-f4c1-99506afefc5e"
      },
      "execution_count": 4,
      "outputs": [
        {
          "output_type": "stream",
          "name": "stdout",
          "text": [
            "Enter your Age : 15\n",
            "wait for the 3 year(s)\n"
          ]
        }
      ]
    },
    {
      "cell_type": "markdown",
      "source": [
        "# Task 2"
      ],
      "metadata": {
        "id": "mkS6nEijf45q"
      }
    },
    {
      "cell_type": "code",
      "source": [
        "# Compare the values of my_age and your_age using if … else. Who is older (me or you)? Use input(“Enter your age: ”) to get the age as input. You can use a nested condition to print 'year' for 1 year difference in age, 'years' for bigger differences, and a custom text if my_age = your_age.\n",
        "my_age = int(input(\"Enter My Age : \"))\n",
        "your_age = int(input(\"Enter Your Age : \"))\n",
        "\n",
        "if my_age > your_age and my_age-your_age !=1:\n",
        "  print(\"I am\", my_age-your_age ,\"years older than you\")\n",
        "elif my_age-your_age ==1:\n",
        "  print(\"I am\", my_age-your_age ,\"year older than you\")\n",
        "elif my_age == your_age:\n",
        "  print(\"We are both of same age\")\n",
        "else:\n",
        "  print(\"negative\")\n"
      ],
      "metadata": {
        "colab": {
          "base_uri": "https://localhost:8080/"
        },
        "id": "esXQ6VIqfrvR",
        "outputId": "509c2094-2db3-4b22-cbf0-91feeb77732f"
      },
      "execution_count": 17,
      "outputs": [
        {
          "output_type": "stream",
          "name": "stdout",
          "text": [
            "Enter My Age : 20\n",
            "Enter Your Age : 19\n",
            "I am 1 year older than you\n"
          ]
        }
      ]
    },
    {
      "cell_type": "markdown",
      "source": [
        "# Task 3"
      ],
      "metadata": {
        "id": "efv0ZwzagJpd"
      }
    },
    {
      "cell_type": "code",
      "source": [
        "# Get two numbers from the user using input prompt. If a is greater than b return a is greater than b, if a is less b return a is smaller than b, else a is equal to b.\n",
        "value_a = int(input(\"A : \"))\n",
        "value_b = int(input(\"B : \"))\n",
        "\n",
        "if value_a > value_b:\n",
        "  print(\"A is greater than B\")\n",
        "elif value_a < value_b:\n",
        "  print(\"A is smaller than B\")\n",
        "else:\n",
        "  print(\"A is equals to B\")"
      ],
      "metadata": {
        "colab": {
          "base_uri": "https://localhost:8080/"
        },
        "id": "W07oLpV_fub8",
        "outputId": "b3c4bf1a-f506-48c0-bd2a-d27f066ced45"
      },
      "execution_count": 20,
      "outputs": [
        {
          "output_type": "stream",
          "name": "stdout",
          "text": [
            "A : 2\n",
            "B : 2\n",
            "A is equals to B\n"
          ]
        }
      ]
    },
    {
      "cell_type": "code",
      "source": [],
      "metadata": {
        "id": "7ZcDeChrrG59"
      },
      "execution_count": null,
      "outputs": []
    }
  ]
}