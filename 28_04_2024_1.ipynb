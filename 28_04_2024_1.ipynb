{
  "nbformat": 4,
  "nbformat_minor": 0,
  "metadata": {
    "colab": {
      "provenance": []
    },
    "kernelspec": {
      "name": "python3",
      "display_name": "Python 3"
    },
    "language_info": {
      "name": "python"
    }
  },
  "cells": [
    {
      "cell_type": "code",
      "execution_count": null,
      "metadata": {
        "colab": {
          "base_uri": "https://localhost:8080/"
        },
        "id": "RuMHk98sCvLR",
        "outputId": "f2a82f15-a178-495a-a254-8d115ff5213a"
      },
      "outputs": [
        {
          "output_type": "stream",
          "name": "stdout",
          "text": [
            "Enter your Age : 30\n",
            "you are not eligible\n"
          ]
        }
      ],
      "source": [
        "my_age = int(input(\"Enter your Age : \"))\n",
        "org_req = \"30\"\n",
        "if my_age is org_req: #identity operators\n",
        "  print('you are eligible')\n",
        "else:\n",
        "  print('you are not eligible')\n"
      ]
    },
    {
      "cell_type": "code",
      "source": [
        "education = input(\"Enter you education: \")\n",
        "required =\"B\"\n",
        "if education is required:\n",
        "     print(\"you are eligible\")\n",
        "else:\n",
        "    print(\"you are not eligible\")"
      ],
      "metadata": {
        "colab": {
          "base_uri": "https://localhost:8080/"
        },
        "id": "KFWGamQ9Cwya",
        "outputId": "98bbca89-3f60-423e-973a-78604b91e5c1"
      },
      "execution_count": null,
      "outputs": [
        {
          "output_type": "stream",
          "name": "stdout",
          "text": [
            "Enter you education: B\n",
            "you are eligible\n"
          ]
        }
      ]
    },
    {
      "cell_type": "code",
      "source": [],
      "metadata": {
        "id": "-sCfebCGDK1d"
      },
      "execution_count": null,
      "outputs": []
    }
  ]
}