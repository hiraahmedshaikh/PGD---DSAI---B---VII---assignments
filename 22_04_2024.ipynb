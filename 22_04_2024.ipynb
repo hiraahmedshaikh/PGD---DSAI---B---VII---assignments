{
  "nbformat": 4,
  "nbformat_minor": 0,
  "metadata": {
    "colab": {
      "provenance": []
    },
    "kernelspec": {
      "name": "python3",
      "display_name": "Python 3"
    },
    "language_info": {
      "name": "python"
    }
  },
  "cells": [
    {
      "cell_type": "code",
      "execution_count": null,
      "metadata": {
        "colab": {
          "base_uri": "https://localhost:8080/",
          "height": 140
        },
        "id": "1tVB6-rqD7dw",
        "outputId": "d05e8e89-51c2-4fd9-83e6-9664fb101eba"
      },
      "outputs": [
        {
          "name": "stdout",
          "output_type": "stream",
          "text": [
            "==================================================================================\n",
            "==================================================================================\n",
            "Portfolio of Mr/Mrs.\n",
            "==================================================================================\n",
            "\n",
            "Name: Hira Ahmed\n"
          ]
        },
        {
          "output_type": "execute_result",
          "data": {
            "text/plain": [
              "'Hira Ahmed'"
            ],
            "application/vnd.google.colaboratory.intrinsic+json": {
              "type": "string"
            }
          },
          "metadata": {},
          "execution_count": 16
        }
      ],
      "source": [
        "print(\"==================================================================================\")\n",
        "print(\"==================================================================================\")\n",
        "Pfolio = \"Portfolio of Mr/Mrs.\"\n",
        "print(Pfolio)\n",
        "print(\"==================================================================================\")\n",
        "print()\n",
        "input(\"Name: \")"
      ]
    },
    {
      "cell_type": "code",
      "source": [],
      "metadata": {
        "id": "eUzMXXqdMtMO"
      },
      "execution_count": null,
      "outputs": []
    }
  ]
}