{
  "nbformat": 4,
  "nbformat_minor": 0,
  "metadata": {
    "colab": {
      "provenance": []
    },
    "kernelspec": {
      "name": "python3",
      "display_name": "Python 3"
    },
    "language_info": {
      "name": "python"
    }
  },
  "cells": [
    {
      "cell_type": "code",
      "source": [
        "# Exercise 1: Convert two lists into a dictionary\n",
        "# keys = ['Ten', 'Twenty', 'Thirty']\n",
        "# values = [10, 20, 30]\n",
        "# Expected output: {'Ten': 10, 'Twenty': 20, 'Thirty': 30}\n",
        "\n",
        "#Solution:\n",
        "keys = ['Ten', 'Twenty', 'Thirty']\n",
        "values = [10, 20, 30]\n",
        "dictionary = dict(zip(keys, values))\n",
        "dictionary"
      ],
      "metadata": {
        "colab": {
          "base_uri": "https://localhost:8080/"
        },
        "id": "69lE3ldeGdSA",
        "outputId": "8e6dc4be-07a8-4ccc-da71-08f906991730"
      },
      "execution_count": 1,
      "outputs": [
        {
          "output_type": "execute_result",
          "data": {
            "text/plain": [
              "{'Ten': 10, 'Twenty': 20, 'Thirty': 30}"
            ]
          },
          "metadata": {},
          "execution_count": 1
        }
      ]
    },
    {
      "cell_type": "code",
      "source": [
        "# Exercise 2: Merge two Python dictionaries into one\n",
        "# dict1 = {'Ten': 10, 'Twenty': 20, 'Thirty': 30}\n",
        "# dict2 = {'Thirty': 30, 'Fourty': 40, 'Fifty': 50}\n",
        "# Expected output: {'Ten': 10, 'Twenty': 20, 'Thirty': 30, 'Fourty': 40, 'Fifty': 50}\n",
        "\n",
        "#Solution:\n",
        "dict1 = {'Ten': 10, 'Twenty': 20, 'Thirty': 30}\n",
        "dict2 = {'Thirty': 30, 'Fourty': 40, 'Fifty': 50}\n",
        "\n",
        "# Create a new dictionary by unpacking both dict1 and dict2\n",
        "merged_dict = {**dict1, **dict2}\n",
        "\n",
        "print(merged_dict)\n",
        "# Explanation\n",
        "# update() method: This method adds elements from dict2 to dict1.\n",
        "# If there are duplicate keys, the values from dict2 will overwrite those from dict1.\n",
        "# Unpacking operator **:\n",
        "# This creates a new dictionary with keys and values from both dict1 and dict2.\n",
        "# If there are duplicate keys, the values from dict2 will overwrite those from dict1."
      ],
      "metadata": {
        "colab": {
          "base_uri": "https://localhost:8080/"
        },
        "id": "9PlBSPefGlQV",
        "outputId": "383bce99-0a76-4ce8-a637-3be954b636d7"
      },
      "execution_count": 5,
      "outputs": [
        {
          "output_type": "stream",
          "name": "stdout",
          "text": [
            "{'Ten': 10, 'Twenty': 20, 'Thirty': 30, 'Fourty': 40, 'Fifty': 50}\n"
          ]
        }
      ]
    },
    {
      "cell_type": "code",
      "source": [
        "# Exercise 3: Print the value of key ‘history’ from the below dict\n",
        "# sampleDict = {\n",
        "#     \"class\": {\n",
        "#         \"student\": {\n",
        "#             \"name\": \"Mike\",\n",
        "#             \"marks\": {\n",
        "#                 \"physics\": 70,\n",
        "#                 \"history\": 80\n",
        "#             }\n",
        "#         }\n",
        "#     }\n",
        "# }\n",
        "# Expected output: 80\n",
        "\n",
        "#Solution:\n",
        "\n",
        "sampleDict = {\n",
        "    \"class\": {\n",
        "        \"student\": {\n",
        "            \"name\": \"Mike\",\n",
        "            \"marks\": {\n",
        "                \"physics\": 70,\n",
        "                \"history\": 80\n",
        "            }\n",
        "        }\n",
        "    }\n",
        "}\n",
        "# Accessing the value of the key 'history'\n",
        "print(sampleDict[\"class\"][\"student\"][\"marks\"][\"history\"])"
      ],
      "metadata": {
        "colab": {
          "base_uri": "https://localhost:8080/"
        },
        "id": "mRK3SsFGGxlG",
        "outputId": "fdfe8c64-a1a8-40b2-a32a-632f89f96eab"
      },
      "execution_count": 13,
      "outputs": [
        {
          "output_type": "stream",
          "name": "stdout",
          "text": [
            "80\n"
          ]
        }
      ]
    },
    {
      "cell_type": "code",
      "source": [
        "# Exercise 4: Create a dictionary by extracting the keys from a given dictionary\n",
        "# sample_dict = {\n",
        "#     \"name\": \"Kelly\",\n",
        "#     \"age\": 25,\n",
        "#     \"salary\": 8000,\n",
        "#     \"city\": \"New york\"}\n",
        "\n",
        "# # Keys to extract\n",
        "# keys = [\"name\", \"salary\"]\n",
        "# Expected output: {'name': 'Kelly', 'salary': 8000}\n",
        "\n",
        "#Solution:\n",
        "sample_dict = {\n",
        "    \"name\": \"Kelly\",\n",
        "    \"age\": 25,\n",
        "    \"salary\": 8000,\n",
        "    \"city\": \"New york\"}\n",
        "\n",
        "# Keys to extract\n",
        "keys = [\"name\", \"salary\"]\n",
        "\n",
        "# Create a new dictionary using dictionary comprehension\n",
        "extracted_dict = {key: sample_dict[key] for key in keys}\n",
        "\n",
        "print(extracted_dict)\n",
        "\n",
        "# Explanation\n",
        "# extracted_dict = {}: Create an empty dictionary to store the extracted key-value pairs.\n",
        "# for key in keys: Iterate over each key in the keys list.\n",
        "# extracted_dict[key] = sample_dict[key]: Add the key-value pair to extracted_dict from sample_dict."
      ],
      "metadata": {
        "colab": {
          "base_uri": "https://localhost:8080/"
        },
        "id": "QGszqPO2G1ug",
        "outputId": "e982acf4-06c4-4e02-d0c3-f39638e15626"
      },
      "execution_count": 19,
      "outputs": [
        {
          "output_type": "stream",
          "name": "stdout",
          "text": [
            "{'name': 'Kelly', 'salary': 8000}\n"
          ]
        }
      ]
    },
    {
      "cell_type": "code",
      "source": [
        "# Exercise 5: Delete a list of keys from a dictionary\n",
        "# sample_dict = {\n",
        "#     \"name\": \"Kelly\",\n",
        "#     \"age\": 25,\n",
        "#     \"salary\": 8000,\n",
        "#     \"city\": \"New york\"\n",
        "# }\n",
        "# Keys to remove\n",
        "# keys = [\"name\", \"salary\"]\n",
        "# Expected output: {'city': 'New york', 'age': 25}\n",
        "\n",
        "#Solution:\n",
        "sample_dict = {\n",
        "    \"name\": \"Kelly\",\n",
        "    \"age\": 25,\n",
        "    \"salary\": 8000,\n",
        "    \"city\": \"New york\"\n",
        "}\n",
        "# Keys to remove\n",
        "keys = [\"name\", \"salary\"]\n",
        "\n",
        "for key in keys:\n",
        "    del sample_dict[key]\n",
        "\n",
        "print(sample_dict)"
      ],
      "metadata": {
        "colab": {
          "base_uri": "https://localhost:8080/"
        },
        "id": "_thoY7eROwjI",
        "outputId": "fd0324fc-80d1-4b6a-dbf2-f0ba671f7a35"
      },
      "execution_count": 25,
      "outputs": [
        {
          "output_type": "stream",
          "name": "stdout",
          "text": [
            "{'age': 25, 'city': 'New york'}\n"
          ]
        }
      ]
    },
    {
      "cell_type": "code",
      "source": [
        "# Exercise 6: Check if a value exists in a dictionary\n",
        "# Write a Python program to check if value 200 exists in the following dictionary.\n",
        "\n",
        "# Given:\n",
        "# sample_dict = {'a': 100, 'b': 200, 'c': 300}\n",
        "\n",
        "# Expected output:\n",
        "# 200 present in a dict\n",
        "\n",
        "#Solution:\n",
        "sample_dict = {'a': 100, 'b': 200, 'c': 300}\n",
        "\n",
        "for i in sample_dict.values():\n",
        "  if i == 200:\n",
        "    print(i,\" is present in the dict\")"
      ],
      "metadata": {
        "colab": {
          "base_uri": "https://localhost:8080/"
        },
        "id": "tZFrAjGxSeK5",
        "outputId": "e84bc1ed-da66-4120-c559-2fc353a59505"
      },
      "execution_count": 30,
      "outputs": [
        {
          "output_type": "stream",
          "name": "stdout",
          "text": [
            "200  is present in the dict\n"
          ]
        }
      ]
    },
    {
      "cell_type": "code",
      "source": [
        "# Exercise 7: Rename key of a dictionary\n",
        "# Given:\n",
        "# sample_dict = {\n",
        "#   \"name\": \"Kelly\",\n",
        "#   \"age\":25,\n",
        "#   \"salary\": 8000,\n",
        "#   \"city\": \"New york\"\n",
        "# }\n",
        "# Expected output:\n",
        "# {'name': 'Kelly', 'age': 25, 'salary': 8000, 'location': 'New york'}\n",
        "\n",
        "#Solution:\n",
        "sample_dict = {\n",
        "  \"name\": \"Kelly\",\n",
        "  \"age\":25,\n",
        "  \"salary\": 8000,\n",
        "  \"city\": \"New york\"\n",
        "}\n",
        "sample_dict[\"location\"] = sample_dict.pop(\"city\")\n",
        "print(sample_dict)"
      ],
      "metadata": {
        "colab": {
          "base_uri": "https://localhost:8080/"
        },
        "id": "_PFt3QYtT1yR",
        "outputId": "be9394ea-bc4d-4d26-9536-f570de22bdb0"
      },
      "execution_count": 34,
      "outputs": [
        {
          "output_type": "stream",
          "name": "stdout",
          "text": [
            "{'name': 'Kelly', 'age': 25, 'salary': 8000, 'location': 'New york'}\n"
          ]
        }
      ]
    },
    {
      "cell_type": "code",
      "execution_count": 35,
      "metadata": {
        "id": "XVMWUnmpr5t8",
        "colab": {
          "base_uri": "https://localhost:8080/"
        },
        "outputId": "44dd4ec3-efe2-487f-dba6-7b8e679f393f"
      },
      "outputs": [
        {
          "output_type": "stream",
          "name": "stdout",
          "text": [
            "Math\n"
          ]
        }
      ],
      "source": [
        "# Exercise 8: Get the key of a minimum value from the following dictionary\n",
        "# sample_dict = {\n",
        "#   'Physics': 82,\n",
        "#   'Math': 65,\n",
        "#   'history': 75\n",
        "# }\n",
        "# Expected output:\n",
        "# Math\n",
        "\n",
        "#Solution:\n",
        "sample_dict = {\n",
        "  'Physics': 82,\n",
        "  'Math': 65,\n",
        "  'history': 75\n",
        "}\n",
        "\n",
        "min_key = min(sample_dict, key=sample_dict.get)\n",
        "print(min_key)"
      ]
    },
    {
      "cell_type": "code",
      "source": [
        "# Exercise 9: Change value of a key in a nested dictionary\n",
        "# Write a Python program to change Brad’s salary to 8500 in the following dictionary.\n",
        "# Given:\n",
        "# sample_dict = {\n",
        "#     'emp1': {'name': 'Jhon', 'salary': 7500},\n",
        "#     'emp2': {'name': 'Emma', 'salary': 8000},\n",
        "#     'emp3': {'name': 'Brad', 'salary': 500}\n",
        "# }\n",
        "# Expected output:\n",
        "# {\n",
        "#    'emp1': {'name': 'Jhon', 'salary': 7500},\n",
        "#    'emp2': {'name': 'Emma', 'salary': 8000},\n",
        "#    'emp3': {'name': 'Brad', 'salary': 8500}\n",
        "# }\n",
        "\n",
        "#Solution:\n",
        "sample_dict = {\n",
        "    'emp1': {'name': 'Jhon', 'salary': 7500},\n",
        "    'emp2': {'name': 'Emma', 'salary': 8000},\n",
        "    'emp3': {'name': 'Brad', 'salary': 500}\n",
        "}\n",
        "sample_dict['emp3']['salary'] = 8500\n",
        "sample_dict"
      ],
      "metadata": {
        "colab": {
          "base_uri": "https://localhost:8080/"
        },
        "id": "7QkIGpUhUA9k",
        "outputId": "a82a3764-ca44-425f-b826-969a8b4baea9"
      },
      "execution_count": 37,
      "outputs": [
        {
          "output_type": "execute_result",
          "data": {
            "text/plain": [
              "{'emp1': {'name': 'Jhon', 'salary': 7500},\n",
              " 'emp2': {'name': 'Emma', 'salary': 8000},\n",
              " 'emp3': {'name': 'Brad', 'salary': 8500}}"
            ]
          },
          "metadata": {},
          "execution_count": 37
        }
      ]
    },
    {
      "cell_type": "code",
      "source": [
        "# Exercise 10: Print the sum of the current number and the previous number\n",
        "# Write a program to iterate the first 10 numbers, and in each iteration, print the sum of the current and previous number.\n",
        "\n",
        "# Expected Output:\n",
        "# Printing current and previous number sum in a range(10)\n",
        "# Current Number 0 Previous Number  0  Sum:  0\n",
        "# Current Number 1 Previous Number  0  Sum:  1\n",
        "# Current Number 2 Previous Number  1  Sum:  3\n",
        "# Current Number 3 Previous Number  2  Sum:  5\n",
        "# Current Number 4 Previous Number  3  Sum:  7\n",
        "# Current Number 5 Previous Number  4  Sum:  9\n",
        "# Current Number 6 Previous Number  5  Sum:  11\n",
        "# Current Number 7 Previous Number  6  Sum:  13\n",
        "# Current Number 8 Previous Number  7  Sum:  15\n",
        "# Current Number 9 Previous Number  8  Sum:  17\n",
        "\n",
        "#Solution:\n",
        "x = 0\n",
        "for y in range(10):\n",
        "    z = y + x\n",
        "    print(\"Current Number {} Previous Number {} Sum: {}\".format(y, x, z))\n",
        "    x = y\n"
      ],
      "metadata": {
        "colab": {
          "base_uri": "https://localhost:8080/"
        },
        "id": "C_JDVzL5T_r5",
        "outputId": "8e91f56b-feae-4cac-8b31-d5d852ccc75c"
      },
      "execution_count": 42,
      "outputs": [
        {
          "output_type": "stream",
          "name": "stdout",
          "text": [
            "Current Number 0 Previous Number 0 Sum: 0\n",
            "Current Number 1 Previous Number 0 Sum: 1\n",
            "Current Number 2 Previous Number 1 Sum: 3\n",
            "Current Number 3 Previous Number 2 Sum: 5\n",
            "Current Number 4 Previous Number 3 Sum: 7\n",
            "Current Number 5 Previous Number 4 Sum: 9\n",
            "Current Number 6 Previous Number 5 Sum: 11\n",
            "Current Number 7 Previous Number 6 Sum: 13\n",
            "Current Number 8 Previous Number 7 Sum: 15\n",
            "Current Number 9 Previous Number 8 Sum: 17\n"
          ]
        }
      ]
    },
    {
      "cell_type": "code",
      "source": [
        "# Exercise 11: Display numbers divisible by 5 from a list\n",
        "# Iterate the given list of numbers and print only those numbers which are divisible by 5\n",
        "\n",
        "# Expected Output:\n",
        "# Given list is  [10, 20, 33, 46, 55]\n",
        "# Divisible by 5\n",
        "# 10\n",
        "# 20\n",
        "# 55\n",
        "\n",
        "#Solution:\n",
        "list1 = [10, 20, 33, 46, 55]\n",
        "for i in list1:\n",
        "  if i % 5 == 0:\n",
        "    print(i)"
      ],
      "metadata": {
        "colab": {
          "base_uri": "https://localhost:8080/"
        },
        "id": "97s5qN9qT9d3",
        "outputId": "85e44fd8-5b68-444c-820f-cc9d99754023"
      },
      "execution_count": 47,
      "outputs": [
        {
          "output_type": "stream",
          "name": "stdout",
          "text": [
            "10\n",
            "20\n",
            "55\n"
          ]
        }
      ]
    },
    {
      "cell_type": "code",
      "source": [
        "# Exercise 12: Calculate income tax for the given income by adhering to the rules below\n",
        "# Taxable Income\tRate (in %)\n",
        "# First $10,000\t0\n",
        "# Next $10,000\t10\n",
        "# The remaining\t20\n",
        "\n",
        "# Expected Output:\n",
        "# For example, suppose the taxable income is 45000, and the income tax payable is\n",
        "# 10000*0% + 10000*10%  + 25000*20% = $6000.\n",
        "\n",
        "#Solution:\n",
        "def calculate_income_tax(income):\n",
        "    if income <= 10000:\n",
        "        tax = 0\n",
        "    elif income <= 20000:\n",
        "        tax = (income - 10000) * 0.10\n",
        "    else:\n",
        "        tax = (10000 * 0.10) + (income - 20000) * 0.20\n",
        "    return tax\n",
        "\n",
        "# Test the function with the given example\n",
        "income = int(input(\"Enter your income: \"))\n",
        "tax = calculate_income_tax(income)\n",
        "print(\"For a taxable income of ${}, the income tax payable is ${: .1f}\".format(income, tax))\n",
        "# :.2f: This is a format specification that means:\n",
        "  # :: Introduces the format spec.\n",
        "  # .2: Specifies that the number should be rounded to 2 decimal places.\n",
        "  # f: Indicates that the value is a fixed-point number (i.e., a float).\n",
        "# So, ${:.2f} formats a floating-point number to two decimal places, and includes a dollar sign before the number."
      ],
      "metadata": {
        "colab": {
          "base_uri": "https://localhost:8080/"
        },
        "id": "EXKzNCVYT76p",
        "outputId": "ae04de23-8f48-4630-d56f-5bf541bf1048"
      },
      "execution_count": 55,
      "outputs": [
        {
          "output_type": "stream",
          "name": "stdout",
          "text": [
            "Enter your income: 60000\n",
            "For a taxable income of $60000, the income tax payable is $ 9000.0\n"
          ]
        }
      ]
    },
    {
      "cell_type": "code",
      "source": [
        "# Exercise 13: Calculate the sum of all numbers from 1 to a given number\n",
        "# Write a program to accept a number from a user and calculate the sum of all numbers from 1 to a given number\n",
        "# For example, if the user entered 10 the output should be 55 (1+2+3+4+5+6+7+8+9+10)\n",
        "\n",
        "# Expected Output:\n",
        "# Enter number 10\n",
        "# Sum is:  55\n",
        "\n",
        "#Solution:\n",
        "\n",
        "number = int(input(\"Enter a number \"))\n",
        "\n",
        "total_sum = sum(range(1, number + 1))\n",
        "\n",
        "# Print the result\n",
        "print(\"Sum is: \", total_sum)\n",
        "# Explanation\n",
        "# Let's break down total_sum = sum(range(1, number + 1)) into its components:\n",
        "# range(1, number + 1): This creates a sequence of numbers starting from 1 up to number.\n",
        "# The range() function generates numbers from the starting value (1) up to, but not including, the ending value (number + 1).\n",
        "# So, if number is 10, range(1, number + 1) will produce the sequence of numbers [1, 2, 3, 4, 5, 6, 7, 8, 9, 10].\n",
        "# sum(range(1, number + 1)): This calculates the sum of all the numbers in the sequence generated by range(1, number + 1).\n",
        "# The sum() function takes an iterable (in this case, the sequence of numbers) and returns the sum of all elements in that iterable.\n",
        "# So, if number is 10, sum(range(1, number + 1)) will sum up all the numbers in the sequence [1, 2, 3, 4, 5, 6, 7, 8, 9, 10], which results in 55.\n",
        "\n"
      ],
      "metadata": {
        "id": "AEkh2hBVQad3",
        "colab": {
          "base_uri": "https://localhost:8080/"
        },
        "outputId": "5b00e05d-b8b2-4b73-8529-c51921e5b562"
      },
      "execution_count": 59,
      "outputs": [
        {
          "output_type": "stream",
          "name": "stdout",
          "text": [
            "Enter a number 10\n",
            "Sum is:  55\n"
          ]
        }
      ]
    },
    {
      "cell_type": "code",
      "source": [],
      "metadata": {
        "id": "i_6x6IsQhon_"
      },
      "execution_count": null,
      "outputs": []
    }
  ]
}