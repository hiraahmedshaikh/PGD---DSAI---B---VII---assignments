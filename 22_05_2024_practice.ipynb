{
  "nbformat": 4,
  "nbformat_minor": 0,
  "metadata": {
    "colab": {
      "provenance": []
    },
    "kernelspec": {
      "name": "python3",
      "display_name": "Python 3"
    },
    "language_info": {
      "name": "python"
    }
  },
  "cells": [
    {
      "cell_type": "markdown",
      "source": [
        "### Task: Define a Function to Square Numbers in a List\n",
        "### Objective:\n",
        "### Write a Python function called square_numbers that accepts a list of numbers as its parameter and returns a new list with each number squared.\n",
        "\n",
        "### Requirements:\n",
        "### The function should be named square_numbers.\n",
        "### It should take one parameter: a list of numbers.\n",
        "### It should return a new list where each number from the input list is squared."
      ],
      "metadata": {
        "id": "bW5bXwr6C0JG"
      }
    },
    {
      "cell_type": "code",
      "source": [
        "list1 = [2,4,6,8,10,12]\n",
        "def square_numbers():\n",
        "  x = [i**2 for i in list1]\n",
        "  return x\n",
        "square_numbers()"
      ],
      "metadata": {
        "colab": {
          "base_uri": "https://localhost:8080/"
        },
        "id": "uMr2JMPnCyk3",
        "outputId": "b2e13561-a9a6-4acd-8c17-7abaf2cf70e0"
      },
      "execution_count": 7,
      "outputs": [
        {
          "output_type": "execute_result",
          "data": {
            "text/plain": [
              "[4, 16, 36, 64, 100, 144]"
            ]
          },
          "metadata": {},
          "execution_count": 7
        }
      ]
    },
    {
      "cell_type": "code",
      "source": [],
      "metadata": {
        "id": "xG8I147fD9Fx"
      },
      "execution_count": null,
      "outputs": []
    }
  ]
}