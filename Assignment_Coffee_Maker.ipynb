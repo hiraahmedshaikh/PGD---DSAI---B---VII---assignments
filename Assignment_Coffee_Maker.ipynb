{
  "nbformat": 4,
  "nbformat_minor": 0,
  "metadata": {
    "colab": {
      "provenance": []
    },
    "kernelspec": {
      "name": "python3",
      "display_name": "Python 3"
    },
    "language_info": {
      "name": "python"
    }
  },
  "cells": [
    {
      "cell_type": "code",
      "source": [
        "# Create coffee menu dictionary\n",
        "def begin_process():\n",
        "    coffeemenu = {\n",
        "        1: {\n",
        "            'name': 'Espresso',\n",
        "            'price_small': 350,\n",
        "            'price_large': 450\n",
        "        },\n",
        "        2: {\n",
        "            'name': 'Americano',\n",
        "            'price_small': 200,\n",
        "            'price_large': 300\n",
        "        },\n",
        "        3: {\n",
        "            'name': 'Latte',\n",
        "            'price_small': 550,\n",
        "            'price_large': 650\n",
        "        },\n",
        "        4: {\n",
        "            'name': 'Cappuccino',\n",
        "            'price_small': 450,\n",
        "            'price_large': 550\n",
        "        }\n",
        "    }\n",
        "    return coffeemenu\n",
        "\n",
        "# Greeting Function\n",
        "def greetings():\n",
        "    line1 = \"====================================\"\n",
        "    welcome_message = \"WELCOME TO COFFEE MAKER\"\n",
        "    line3 = \"====================================\"\n",
        "    return f\"{line1}\\n{welcome_message}\\n{line3}\"\n",
        "\n",
        "# Menu Function\n",
        "def coffee_menu(coffeemenu):\n",
        "    print(\"Please select your coffee:\")\n",
        "    print(\"No. Coffee\\tPrice for Small\\tPrice for Large\")\n",
        "    for number, details in coffeemenu.items():\n",
        "        print(f\"{number}. {details['name']}\\tPKR. {details['price_small']}\\tPKR. {details['price_large']}\")\n",
        "\n",
        "# Coffee Selection Function\n",
        "def select_coffee(coffeemenu):\n",
        "    selection = int(input(\"\\nEnter number of your choice: \"))\n",
        "    if selection not in coffeemenu:\n",
        "        print(\"Invalid selection. Please try again.\")\n",
        "        return None\n",
        "    return coffeemenu[selection]\n",
        "\n",
        "# Cup Size Selection Function\n",
        "def select_size():\n",
        "    size = input(\"Enter preferred size of cup (s for small, l for large): \").lower()\n",
        "    if size not in ['s', 'l']:\n",
        "        print(\"Invalid size. Please enter 's' for small or 'l' for large.\")\n",
        "        return None\n",
        "    return size\n",
        "\n",
        "# User Order Function\n",
        "def user_order(coffee_choice, coffee_size):\n",
        "    if coffee_choice and coffee_size:\n",
        "        cup_size = \"Small\" if coffee_size == 's' else \"Large\"\n",
        "        price = coffee_choice['price_small'] if coffee_size == 's' else coffee_choice['price_large']\n",
        "        print(\"\\n=============YOUR ORDER=============\")\n",
        "        print(\"You have selected {} ({}).\".format(coffee_choice['name'], cup_size))\n",
        "        print(\"Your Total Bill is: PKR. {}\".format(price))\n",
        "\n",
        "# Order Complete or Closing Function\n",
        "def closing():\n",
        "    line1 = \"====================================\"\n",
        "    signoff = \"ENJOY YOUR COFFEE!\"\n",
        "    return f\"{line1}\\n{signoff}\"\n",
        "\n",
        "# Main Program\n",
        "def process():\n",
        "    coffeemenu = begin_process()\n",
        "    print(greetings())\n",
        "    coffee_menu(coffeemenu)\n",
        "\n",
        "    coffee_choice = select_coffee(coffeemenu) # Select coffee\n",
        "    if coffee_choice:\n",
        "        coffee_size = select_size() # Select size\n",
        "        if coffee_size:\n",
        "            user_order(coffee_choice, coffee_size)\n",
        "\n",
        "    print(closing())\n",
        "\n",
        "# Start the program\n",
        "process()\n"
      ],
      "metadata": {
        "colab": {
          "base_uri": "https://localhost:8080/"
        },
        "id": "Lsygk1CXMUnT",
        "outputId": "fedd7b24-c768-4f01-c349-e9b48ffe5b39"
      },
      "execution_count": 64,
      "outputs": [
        {
          "output_type": "stream",
          "name": "stdout",
          "text": [
            "====================================\n",
            "WELCOME TO COFFEE MAKER\n",
            "====================================\n",
            "Please select your coffee:\n",
            "No. Coffee\tPrice for Small\tPrice for Large\n",
            "1. Espresso\tPKR. 350\tPKR. 450\n",
            "2. Americano\tPKR. 200\tPKR. 300\n",
            "3. Latte\tPKR. 550\tPKR. 650\n",
            "4. Cappuccino\tPKR. 450\tPKR. 550\n",
            "\n",
            "Enter number of your choice: 4\n",
            "Enter preferred size of cup (s for small, l for large): l\n",
            "\n",
            "=============YOUR ORDER=============\n",
            "You have selected Cappuccino (Large).\n",
            "Your Total Bill is: PKR. 550\n",
            "====================================\n",
            "ENJOY YOUR COFFEE!\n"
          ]
        }
      ]
    },
    {
      "cell_type": "code",
      "source": [],
      "metadata": {
        "id": "1c4fZH_-RL6T"
      },
      "execution_count": null,
      "outputs": []
    }
  ]
}