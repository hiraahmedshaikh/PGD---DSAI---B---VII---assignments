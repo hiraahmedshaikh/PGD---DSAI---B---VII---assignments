{
  "nbformat": 4,
  "nbformat_minor": 0,
  "metadata": {
    "colab": {
      "provenance": []
    },
    "kernelspec": {
      "name": "python3",
      "display_name": "Python 3"
    },
    "language_info": {
      "name": "python"
    }
  },
  "cells": [
    {
      "cell_type": "markdown",
      "source": [
        "**FUNCTION WITH USER INPUT**"
      ],
      "metadata": {
        "id": "aqz_SNswvon2"
      }
    },
    {
      "cell_type": "code",
      "source": [
        "list1 = []\n",
        "n=int(input(\"Enter your desired number: \"))\n",
        "for n in range(1,n):\n",
        "  element = int(input(\"Enter number: \"))\n",
        "  list1.append(element)\n",
        "print(\"This is the given list: \", list1)\n",
        "\n",
        "def square_numbers():\n",
        "  x = [i**2 for i in list1]\n",
        "  return x\n",
        "print(\"This is the square of list: \", square_numbers())"
      ],
      "metadata": {
        "colab": {
          "base_uri": "https://localhost:8080/"
        },
        "id": "rEvLyhGbshYT",
        "outputId": "f1a56cfc-7c6a-408e-a6bc-d783da888e0b"
      },
      "execution_count": null,
      "outputs": [
        {
          "output_type": "stream",
          "name": "stdout",
          "text": [
            "Enter your desired number: 5\n",
            "Enter number: 2\n",
            "Enter number: 4\n",
            "Enter number: 6\n",
            "Enter number: 8\n",
            "This is the given list:  [2, 4, 6, 8]\n",
            "This is the square of list:  [4, 16, 36, 64]\n"
          ]
        }
      ]
    },
    {
      "cell_type": "markdown",
      "source": [
        "***ARGS**"
      ],
      "metadata": {
        "id": "uBGsyJytzJr1"
      }
    },
    {
      "cell_type": "code",
      "source": [
        "# Fullname\n",
        "# profession\n",
        "# gender\n",
        "# age\n",
        "# specialization\n",
        "\n",
        "def userbio(*bio): #*args function for lists, tuples, sets\n",
        "  print(bio)\n",
        "userbio(\"Hira Ahmed\", \"Project Manager\", \"Female\", 35, \"Agile\")"
      ],
      "metadata": {
        "colab": {
          "base_uri": "https://localhost:8080/"
        },
        "id": "DyutzDeSuCf8",
        "outputId": "adce34a4-cdd7-4633-d95f-97f0266dfefe"
      },
      "execution_count": null,
      "outputs": [
        {
          "output_type": "stream",
          "name": "stdout",
          "text": [
            "('Hira Ahmed', 'Project Manager', 'Female', 35, 'Agile')\n"
          ]
        }
      ]
    },
    {
      "cell_type": "code",
      "source": [
        "def UserDetails(*args):\n",
        "    print(args)\n",
        "    print(\"My Name is \",args[0]) #with indexing\n",
        "    print(\"My profession is\",args[1])\n",
        "    print(\"My gender is\",args[2])\n",
        "    print(\"My age is\",args[3])\n",
        "    print(\"My specialization is\",args[4])\n",
        "\n",
        "name=input(\"Enter your Name: \")\n",
        "prof=input(\"Enter your Profession: \")\n",
        "gender=input(\"Enter your Gender: \")\n",
        "age=int(input(\"Enter your age: \"))\n",
        "spec=input(\"Enter your specialization: \")\n",
        "UserDetails(name,prof,gender,age,spec)"
      ],
      "metadata": {
        "colab": {
          "base_uri": "https://localhost:8080/"
        },
        "id": "-sFaG1ZjytIN",
        "outputId": "c15356a9-0954-40c7-fcd2-7a42cf6e2d51"
      },
      "execution_count": null,
      "outputs": [
        {
          "output_type": "stream",
          "name": "stdout",
          "text": [
            "Enter your Name: Hira Ahmed\n",
            "Enter your Profession: Project Manager\n",
            "Enter your Gender: Female\n",
            "Enter your age: 35\n",
            "Enter your specialization: Agile\n",
            "('Hira Ahmed', 'Project Manager', 'Female', 35, 'Agile')\n",
            "My Name is  Hira Ahmed\n",
            "My profession is Project Manager\n",
            "My gender is Female\n",
            "My age is 35\n",
            "My specialization is Agile\n"
          ]
        }
      ]
    },
    {
      "cell_type": "markdown",
      "source": [
        "****KWARGS**"
      ],
      "metadata": {
        "id": "nI5s90h66EX8"
      }
    },
    {
      "cell_type": "code",
      "source": [],
      "metadata": {
        "id": "f0OnkJY07KNO"
      },
      "execution_count": null,
      "outputs": []
    },
    {
      "cell_type": "code",
      "source": [
        "def userdetail(**kwargs): #for dictionaries with keys and values\n",
        "  print(kwargs)\n",
        "\n",
        "userdetail(Name=\"Hira\", Gender=\"Female\", Age=35, Profession=\"Project Manager\")"
      ],
      "metadata": {
        "colab": {
          "base_uri": "https://localhost:8080/"
        },
        "id": "3TpD-y2c4f_D",
        "outputId": "a2ce0bec-9d6f-4036-db4f-a3205680d24d"
      },
      "execution_count": null,
      "outputs": [
        {
          "output_type": "stream",
          "name": "stdout",
          "text": [
            "{'Name': 'Hira', 'Gender': 'Female', 'Age': 35, 'Profession': 'Project Manager'}\n"
          ]
        }
      ]
    },
    {
      "cell_type": "code",
      "source": [
        "def userdetail(**details):\n",
        "  print(details)\n",
        "\n",
        "userdetail(Name=\"Hira\", Gender=\"Female\", Age=35, Profession=\"Project Manager\")"
      ],
      "metadata": {
        "colab": {
          "base_uri": "https://localhost:8080/"
        },
        "id": "5kEFAKw86BsG",
        "outputId": "e6e8bcbd-2c30-4200-912e-81025219671a"
      },
      "execution_count": null,
      "outputs": [
        {
          "output_type": "stream",
          "name": "stdout",
          "text": [
            "{'Name': 'Hira', 'Gender': 'Female', 'Age': 35, 'Profession': 'Project Manager'}\n"
          ]
        }
      ]
    },
    {
      "cell_type": "code",
      "source": [
        "def concatenate(**kwargs):\n",
        "  result =\"\"\n",
        "  for arg in kwargs.values(): #shows values only\n",
        "    result += arg\n",
        "  return result\n",
        "print(concatenate(a=\"Real\", b=\"Python\", c=\"Is\", d=\"Great\", e=\"!\"))"
      ],
      "metadata": {
        "colab": {
          "base_uri": "https://localhost:8080/"
        },
        "id": "jJYzCD8J6ipM",
        "outputId": "0e0188df-81d3-4cbd-9e6b-1292e74f1ba8"
      },
      "execution_count": null,
      "outputs": [
        {
          "output_type": "stream",
          "name": "stdout",
          "text": [
            "RealPythonIsGreat!\n"
          ]
        }
      ]
    },
    {
      "cell_type": "code",
      "source": [
        "def concatenate(**kwargs):\n",
        "  result =\"\"\n",
        "  for arg in kwargs.keys(): #shows keys only\n",
        "    result += arg\n",
        "  return result\n",
        "print(concatenate(a=\"Real\", b=\"Python\", c=\"Is\", d=\"Great\", e=\"!\"))"
      ],
      "metadata": {
        "colab": {
          "base_uri": "https://localhost:8080/"
        },
        "id": "Efz66AeB8k-j",
        "outputId": "6926faf5-7171-4de8-a62a-0a14d20c5861"
      },
      "execution_count": null,
      "outputs": [
        {
          "output_type": "stream",
          "name": "stdout",
          "text": [
            "abcde\n"
          ]
        }
      ]
    },
    {
      "cell_type": "code",
      "source": [
        "def userdetail(**details):\n",
        "  for key,val in details.items():\n",
        "    print(\"{}: {}\".format(key,val)) # dot format\n",
        "\n",
        "userdetail(Name=\"Hira\", Gender=\"Female\", Age=35, Profession=\"Project Manager\")"
      ],
      "metadata": {
        "colab": {
          "base_uri": "https://localhost:8080/"
        },
        "id": "JyDwzYNZ8ozC",
        "outputId": "59359f37-c202-4c31-8e1f-07d23ad2c0e6"
      },
      "execution_count": null,
      "outputs": [
        {
          "output_type": "stream",
          "name": "stdout",
          "text": [
            "Name: Hira\n",
            "Gender: Female\n",
            "Age: 35\n",
            "Profession: Project Manager\n"
          ]
        }
      ]
    },
    {
      "cell_type": "code",
      "source": [
        "def val1(x):\n",
        "  def val2(y):\n",
        "    def val3(z):\n",
        "      return x+y+z\n",
        "    return val3\n",
        "  return val2\n",
        "\n",
        "res = val1(\"Biryani\")\n",
        "a = res(\" Qorma\")\n",
        "print(a(\" with Zarda\"))\n"
      ],
      "metadata": {
        "colab": {
          "base_uri": "https://localhost:8080/"
        },
        "id": "-f2BW1NN9lgV",
        "outputId": "4d220f5b-fd55-4013-9194-b62c3d8146f6"
      },
      "execution_count": null,
      "outputs": [
        {
          "output_type": "stream",
          "name": "stdout",
          "text": [
            "Biryani Qorma with Zarda\n"
          ]
        }
      ]
    },
    {
      "cell_type": "code",
      "source": [],
      "metadata": {
        "id": "axMzg4RpFSNc"
      },
      "execution_count": null,
      "outputs": []
    }
  ]
}