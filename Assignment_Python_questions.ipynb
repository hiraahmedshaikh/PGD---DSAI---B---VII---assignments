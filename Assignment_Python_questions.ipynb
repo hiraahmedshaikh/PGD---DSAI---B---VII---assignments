{
  "nbformat": 4,
  "nbformat_minor": 0,
  "metadata": {
    "colab": {
      "provenance": []
    },
    "kernelspec": {
      "name": "python3",
      "display_name": "Python 3"
    },
    "language_info": {
      "name": "python"
    }
  },
  "cells": [
    {
      "cell_type": "markdown",
      "source": [
        "# Python questions focusing on for loops, lists, list functions, and operators:\n",
        "### 1. Write a Python program to print the numbers from 1 to 10 using a for loop.\n",
        "### 2. Create a list containing the numbers 1 to 5. Then, using a for loop, print each element of the list.\n",
        "### 3. Write a program that takes a list of numbers and returns the sum of all the numbers in the list.\n",
        "### 4. Given a list of strings, write a program to concatenate all the strings into one.\n",
        "### 5. Write a program that takes a list of numbers and returns the largest number in the list.\n",
        "### 6. Create a list containing the numbers 1 to 10. Using a for loop, square each number in the list and print the result.\n",
        "### 7. Write a program that takes a list of numbers and returns a new list containing only the even numbers from the original list.\n",
        "### 8. Given two lists of numbers, write a program to combine the lists element-wise (i.e., element-wise addition).\n",
        "### 9. Write a program that takes a list of strings and returns a new list containing the lengths of each string.\n",
        "### 10. Create a list of numbers from 1 to 10. Using list slicing and a for loop, print every second element of the list."
      ],
      "metadata": {
        "id": "EAzH9x4fTqsj"
      }
    },
    {
      "cell_type": "code",
      "source": [
        "#Option 1 --> 1. Write a Python program to print the numbers from 1 to 10 using a for loop.\n",
        "num = 1,2,3,4,5,6,7,8,9,10\n",
        "for i in num:\n",
        "  print(i)\n",
        "print(\"-------------\")\n",
        "#Option 2 --> 1. Write a Python program to print the numbers from 1 to 10 using a for loop.\n",
        "for i in range(1,11):\n",
        "  print(i)"
      ],
      "metadata": {
        "colab": {
          "base_uri": "https://localhost:8080/"
        },
        "id": "35RK67TnTN0V",
        "outputId": "25b4e711-3c6b-44c1-c47e-cc76081dd43d"
      },
      "execution_count": 4,
      "outputs": [
        {
          "output_type": "stream",
          "name": "stdout",
          "text": [
            "1\n",
            "2\n",
            "3\n",
            "4\n",
            "5\n",
            "6\n",
            "7\n",
            "8\n",
            "9\n",
            "10\n",
            "-------------\n",
            "1\n",
            "2\n",
            "3\n",
            "4\n",
            "5\n",
            "6\n",
            "7\n",
            "8\n",
            "9\n",
            "10\n"
          ]
        }
      ]
    },
    {
      "cell_type": "code",
      "source": [
        "# 2. Create a list containing the numbers 1 to 5. Then, using a for loop, print each element of the list.\n",
        "num = [1,2,3,4,5]\n",
        "for i in num:\n",
        "  print(i)"
      ],
      "metadata": {
        "colab": {
          "base_uri": "https://localhost:8080/"
        },
        "id": "QTurrPy0TjeD",
        "outputId": "c862de6f-f466-49d4-8982-bd3f27b95423"
      },
      "execution_count": null,
      "outputs": [
        {
          "output_type": "stream",
          "name": "stdout",
          "text": [
            "1\n",
            "2\n",
            "3\n",
            "4\n",
            "5\n"
          ]
        }
      ]
    },
    {
      "cell_type": "code",
      "source": [
        "# 3. Write a program that takes a list of numbers and returns the sum of all the numbers in the list.\n",
        "num1 = [1, 3, 5, 7, 9]\n",
        "total = sum(num1)\n",
        "print(\"The sum of all the numbers in the list is:\", total)"
      ],
      "metadata": {
        "id": "LQIJRv0pTkXe",
        "colab": {
          "base_uri": "https://localhost:8080/"
        },
        "outputId": "1c45716e-6230-436e-d9ee-6a175d2b56fe"
      },
      "execution_count": null,
      "outputs": [
        {
          "output_type": "stream",
          "name": "stdout",
          "text": [
            "The sum of all the numbers in the list is: 25\n"
          ]
        }
      ]
    },
    {
      "cell_type": "code",
      "source": [
        "# 4. Given a list of strings, write a program to concatenate all the strings into one.\n",
        "firstname = [\"Hira\"]\n",
        "middlename = [\"Ahmed\"]\n",
        "lastname = [\"Shaikh\"]\n",
        "fullname = \" \".join(firstname+middlename+lastname) #concatinate\n",
        "print(fullname)"
      ],
      "metadata": {
        "id": "YTmvrQ8UTlJu",
        "colab": {
          "base_uri": "https://localhost:8080/"
        },
        "outputId": "180b5448-0288-4951-e00b-48bba4a3fdeb"
      },
      "execution_count": null,
      "outputs": [
        {
          "output_type": "stream",
          "name": "stdout",
          "text": [
            "Hira Ahmed Shaikh\n"
          ]
        }
      ]
    },
    {
      "cell_type": "code",
      "source": [
        "# 5. Write a program that takes a list of numbers and returns the largest number in the list.\n",
        "num_list = [50,20,10,30,40]\n",
        "print(max(num_list)) # max() function in Python, which returns the largest item in an iterable."
      ],
      "metadata": {
        "id": "Xdq0zgYOTmN-",
        "colab": {
          "base_uri": "https://localhost:8080/"
        },
        "outputId": "2fa873b3-9abd-4320-fec6-f517eeafc9ea"
      },
      "execution_count": null,
      "outputs": [
        {
          "output_type": "stream",
          "name": "stdout",
          "text": [
            "50\n"
          ]
        }
      ]
    },
    {
      "cell_type": "code",
      "source": [
        "# 6. Create a list containing the numbers 1 to 10. Using a for loop, square each number in the list and print the result.\n",
        "nums = [1,2,3,4,5,6,7,8,9,10]\n",
        "\n",
        "for i in nums:\n",
        "  print(i**2)"
      ],
      "metadata": {
        "id": "iPHRqCF7Tnhu",
        "colab": {
          "base_uri": "https://localhost:8080/"
        },
        "outputId": "feae77ae-97bf-418a-b73f-e657a0783913"
      },
      "execution_count": null,
      "outputs": [
        {
          "output_type": "stream",
          "name": "stdout",
          "text": [
            "1\n",
            "4\n",
            "9\n",
            "16\n",
            "25\n",
            "36\n",
            "49\n",
            "64\n",
            "81\n",
            "100\n"
          ]
        }
      ]
    },
    {
      "cell_type": "code",
      "source": [
        "# 7. Write a program that takes a list of numbers and returns a new list containing only the even numbers from the original list.\n",
        "num_list = [1,2,3,4,5,6,7,8,9,10]\n",
        "even_num_list = [i for i in num_list if i % 2 == 0]\n",
        "print(even_num_list)"
      ],
      "metadata": {
        "id": "8FNXZlNRTtUB",
        "colab": {
          "base_uri": "https://localhost:8080/"
        },
        "outputId": "44f85559-d033-4ce9-dd0e-3b86f1b6438d"
      },
      "execution_count": null,
      "outputs": [
        {
          "output_type": "stream",
          "name": "stdout",
          "text": [
            "[2, 4, 6, 8, 10]\n"
          ]
        }
      ]
    },
    {
      "cell_type": "code",
      "source": [
        "# 8. Given two lists of numbers, write a program to combine the lists element-wise (i.e., element-wise addition).\n",
        "num_list1 = [1,2,3,4,5,6,7,8,9]\n",
        "num_list2 = [9,8,7,6,5,4,3,2,1]\n",
        "combined_list = [num1+num2 for num1 , num2 in zip(num_list1, num_list2)] #element-wise addition of the two lists.\n",
        "print(combined_list)"
      ],
      "metadata": {
        "id": "DbN15hDNTuwv",
        "colab": {
          "base_uri": "https://localhost:8080/"
        },
        "outputId": "48a52ea4-1a3b-47e3-cc35-17c6b6c67e41"
      },
      "execution_count": null,
      "outputs": [
        {
          "output_type": "stream",
          "name": "stdout",
          "text": [
            "[10, 10, 10, 10, 10, 10, 10, 10, 10]\n"
          ]
        }
      ]
    },
    {
      "cell_type": "code",
      "source": [
        "# 9. Write a program that takes a list of strings and returns a new list containing the lengths of each string.\n",
        "list1 = ['Hira','Zahid','Huzaifa','Fatima','Faheem']\n",
        "\n",
        "print([len(string) for string in list1])\n",
        "#This code iterates over each string in list1, calculates the length of each string using the len() function, and collects these lengths into a new list lengths. Finally, it prints the lengths list."
      ],
      "metadata": {
        "id": "jfnkhSNxTwJv",
        "colab": {
          "base_uri": "https://localhost:8080/"
        },
        "outputId": "8eb389cd-dd70-4679-95a5-59e46d8c1a38"
      },
      "execution_count": null,
      "outputs": [
        {
          "output_type": "stream",
          "name": "stdout",
          "text": [
            "[4, 5, 7, 6, 6]\n"
          ]
        }
      ]
    },
    {
      "cell_type": "code",
      "source": [
        "# 10. Create a list of numbers from 1 to 10. Using list slicing and a for loop, print every second element of the list.\n",
        "nlist = [1,2,3,4,5,6,7,8,9,10]\n",
        "print(nlist[::2])"
      ],
      "metadata": {
        "id": "6OuowAbFTxiM",
        "colab": {
          "base_uri": "https://localhost:8080/"
        },
        "outputId": "b56598db-d333-4920-cdca-4e357978139c"
      },
      "execution_count": null,
      "outputs": [
        {
          "output_type": "stream",
          "name": "stdout",
          "text": [
            "[1, 3, 5, 7, 9]\n"
          ]
        }
      ]
    }
  ]
}