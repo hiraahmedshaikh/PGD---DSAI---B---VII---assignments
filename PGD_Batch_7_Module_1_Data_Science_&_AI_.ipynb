{
  "cells": [
    {
      "cell_type": "code",
      "execution_count": null,
      "id": "8af2014b",
      "metadata": {
        "id": "8af2014b"
      },
      "outputs": [],
      "source": [
        "# Full Name:  Hira Ejaz Ahmed\n",
        "# Contact No: 0331-7770498\n",
        "# Program Name: PGD - DSAI - B - VII"
      ]
    },
    {
      "cell_type": "markdown",
      "id": "dddb1d49",
      "metadata": {
        "id": "dddb1d49"
      },
      "source": [
        "# Part 1: Attempt any 8 Question"
      ]
    },
    {
      "cell_type": "markdown",
      "id": "c75ab677",
      "metadata": {
        "id": "c75ab677"
      },
      "source": [
        "Question 1:\n",
        "Define two variables, `num1` and `num2`, with values 40 and 52 respectively.Write a Python expression to calculate the sum, difference, product, and quotient of these two variables."
      ]
    },
    {
      "cell_type": "code",
      "source": [
        "num1 = 40\n",
        "num2 = 52\n",
        "sum = num1+num2\n",
        "diff = num1-num2\n",
        "prod = num1*num2\n",
        "quot = num1**num2\n",
        "print(\"The sum of two variables is:\", sum)\n",
        "print(\"The difference of two variables is:\", diff)\n",
        "print(\"The product of two variables is:\", prod)\n",
        "print(\"The quotient of two variables is:\", quot)"
      ],
      "metadata": {
        "colab": {
          "base_uri": "https://localhost:8080/"
        },
        "id": "U4gskYjIztaX",
        "outputId": "16c89606-37cb-4943-9f9d-cbea117a941b"
      },
      "id": "U4gskYjIztaX",
      "execution_count": null,
      "outputs": [
        {
          "output_type": "stream",
          "name": "stdout",
          "text": [
            "The sum of two variables is: 92\n",
            "The difference of two variables is: -12\n",
            "The product of two variables is: 2080\n",
            "The quotient of two variables is: 202824096036516704239472512860160000000000000000000000000000000000000000000000000000\n"
          ]
        }
      ]
    },
    {
      "cell_type": "markdown",
      "id": "8b493e32",
      "metadata": {
        "id": "8b493e32"
      },
      "source": [
        "Question 2:\n",
        "Write a Python script that checks if a number entered in a variable `num` by a user is positive, negative, or zero,or check if a user enter any invalid character and prints an appropriate message for each case."
      ]
    },
    {
      "cell_type": "code",
      "source": [
        "num = int(input(\"Enter a number: \"))\n",
        "if num > 0:\n",
        "  print(\"The number is Positive\")\n",
        "elif num < 0:\n",
        "  print(\"The number is Negative\")\n",
        "else:\n",
        "  print(\"The number is Zero\")\n"
      ],
      "metadata": {
        "colab": {
          "base_uri": "https://localhost:8080/"
        },
        "id": "Sgt8spGyzwRZ",
        "outputId": "ffd0bc52-c40c-4ace-8aa7-c688f09b6169"
      },
      "id": "Sgt8spGyzwRZ",
      "execution_count": null,
      "outputs": [
        {
          "output_type": "stream",
          "name": "stdout",
          "text": [
            "Enter a number: 0\n",
            "The number is Zero\n"
          ]
        }
      ]
    },
    {
      "cell_type": "markdown",
      "id": "17e2e808",
      "metadata": {
        "id": "17e2e808"
      },
      "source": [
        "Question 3:Write a Python script using a for loop to print all the even numbers between 1 and 20 (inclusive)."
      ]
    },
    {
      "cell_type": "code",
      "source": [
        "for i in range(1,21):\n",
        "  if i % 2 == 0:\n",
        "    print(i)\n",
        "\n"
      ],
      "metadata": {
        "colab": {
          "base_uri": "https://localhost:8080/"
        },
        "id": "PuQxBl5CzxAk",
        "outputId": "031814ef-f36d-46d9-e38b-f51f2cdef8fa"
      },
      "id": "PuQxBl5CzxAk",
      "execution_count": null,
      "outputs": [
        {
          "output_type": "stream",
          "name": "stdout",
          "text": [
            "2\n",
            "4\n",
            "6\n",
            "8\n",
            "10\n",
            "12\n",
            "14\n",
            "16\n",
            "18\n",
            "20\n"
          ]
        }
      ]
    },
    {
      "cell_type": "markdown",
      "id": "5c6d13ad",
      "metadata": {
        "id": "5c6d13ad"
      },
      "source": [
        "Question 4:Create two string variables `first_name` and `last_name`. Write a Python script to concatenate these two strings with a space in between and print the full name"
      ]
    },
    {
      "cell_type": "code",
      "source": [
        "first_name = \"Hira\"\n",
        "last_name = \"Ejaz Ahmed\"\n",
        "concat = first_name + \" \" + last_name\n",
        "print(concat)"
      ],
      "metadata": {
        "colab": {
          "base_uri": "https://localhost:8080/"
        },
        "id": "blVrGbZezxnd",
        "outputId": "41cd348f-ae92-4b28-e3ba-47671583395b"
      },
      "id": "blVrGbZezxnd",
      "execution_count": null,
      "outputs": [
        {
          "output_type": "stream",
          "name": "stdout",
          "text": [
            "Hira Ejaz Ahmed\n"
          ]
        }
      ]
    },
    {
      "cell_type": "markdown",
      "id": "4014ba3f",
      "metadata": {
        "id": "4014ba3f"
      },
      "source": [
        "Question 5: Write a Python script to calculate the area of a rectangle. The length and width of the rectangle should be stored in variables `length` and `width`."
      ]
    },
    {
      "cell_type": "code",
      "source": [
        "length = int(input(\"Enter length of the rectangle in cms: \"))\n",
        "width = int(input(\"Enter width of the rectangle in cms: \"))\n",
        "area = length*width\n",
        "print(\"The area of the rectangle is:\" ,area, \"cms\")\n"
      ],
      "metadata": {
        "colab": {
          "base_uri": "https://localhost:8080/"
        },
        "id": "lpH8eNWpzyC6",
        "outputId": "e8236a19-4f3a-463d-bed1-d8dd9c881650"
      },
      "id": "lpH8eNWpzyC6",
      "execution_count": null,
      "outputs": [
        {
          "output_type": "stream",
          "name": "stdout",
          "text": [
            "Enter length of the rectangle in cms: 2\n",
            "Enter width of the rectangle in cms: 2\n",
            "The area of the rectangle is: 4 cms\n"
          ]
        }
      ]
    },
    {
      "cell_type": "markdown",
      "id": "571048cb",
      "metadata": {
        "id": "571048cb"
      },
      "source": [
        "Question 6:Write a program to check if a string enter by a user is a palindrome or not."
      ]
    },
    {
      "cell_type": "code",
      "source": [
        "item = input(\"Enter a string value: \")\n",
        "if item == item[::-1]:\n",
        "  print(\"The sring entered is a palindrome\")\n",
        "else:\n",
        "  print(\"The sring entered is not a palindrome\")\n"
      ],
      "metadata": {
        "colab": {
          "base_uri": "https://localhost:8080/"
        },
        "id": "gEKRZGSTzyp-",
        "outputId": "19e38372-5cca-42c2-859f-c867a62d5124"
      },
      "id": "gEKRZGSTzyp-",
      "execution_count": null,
      "outputs": [
        {
          "output_type": "stream",
          "name": "stdout",
          "text": [
            "Enter a string value: text\n",
            "The sring entered is not a palindrome\n"
          ]
        }
      ]
    },
    {
      "cell_type": "markdown",
      "id": "9248bc20",
      "metadata": {
        "id": "9248bc20"
      },
      "source": [
        "Question 7: Write a program to check if a number enter by user is prime."
      ]
    },
    {
      "cell_type": "code",
      "source": [
        "val = int(input(\"Enter a Number: \"))\n",
        "if val > 1:\n",
        "    for i in range(2, int(val ** 0.5) + 1):\n",
        "        if val % i == 0:\n",
        "            print(\"It is not a prime number.\")\n",
        "            break\n",
        "    else:\n",
        "        print(\"It is a prime number.\")\n",
        "else:\n",
        "    print(\"It is not a prime number.\")"
      ],
      "metadata": {
        "colab": {
          "base_uri": "https://localhost:8080/"
        },
        "id": "n1fjS19J-ckN",
        "outputId": "e07eff60-23c4-4c2f-c45f-36e3faeadfa1"
      },
      "id": "n1fjS19J-ckN",
      "execution_count": null,
      "outputs": [
        {
          "output_type": "stream",
          "name": "stdout",
          "text": [
            "Enter a Number: 6\n",
            "It is not a prime number.\n"
          ]
        }
      ]
    },
    {
      "cell_type": "markdown",
      "id": "e1e5801e",
      "metadata": {
        "id": "e1e5801e"
      },
      "source": [
        "Question 8: Write a Python script that uses a for loop to iterate through numbers from 1 to 15. For each number, print \"Fizz\" if the number is divisible by 3, \"Buzz\" if it is divisible by 5, and \"FizzBuzz\" if it is divisible by both 3 and 5."
      ]
    },
    {
      "cell_type": "markdown",
      "id": "7601671a",
      "metadata": {
        "id": "7601671a"
      },
      "source": [
        "Question 9 : Write a Python script that asks the user for their name and age, stores them in variables, and then prints a message saying \"Hello [name], you are [age] years old.\""
      ]
    },
    {
      "cell_type": "code",
      "source": [
        "name = input(\"Enter your Name: \")\n",
        "age = input(\"Enter you Age: \")\n",
        "print(f\"Hello {name}, you are {age} years old\")"
      ],
      "metadata": {
        "colab": {
          "base_uri": "https://localhost:8080/"
        },
        "id": "CLnzEh32zz31",
        "outputId": "97f5b7ad-64e8-4e10-9ac8-3b5a833a6f23"
      },
      "id": "CLnzEh32zz31",
      "execution_count": null,
      "outputs": [
        {
          "output_type": "stream",
          "name": "stdout",
          "text": [
            "Enter your Name: John\n",
            "Enter you Age: 26\n",
            "Hello John, you are 26 years old\n"
          ]
        }
      ]
    },
    {
      "cell_type": "markdown",
      "id": "41284e6f",
      "metadata": {
        "id": "41284e6f"
      },
      "source": [
        "# Part 2: Find error in a code and find the output"
      ]
    },
    {
      "cell_type": "code",
      "execution_count": null,
      "id": "30970d1b",
      "metadata": {
        "id": "30970d1b"
      },
      "outputs": [],
      "source": [
        "# student_names = ['Luis', 'Divya' 'Maria', 'Mimi')\n",
        "# student_names.append('Arnold)"
      ]
    },
    {
      "cell_type": "code",
      "source": [
        "student_names = ['Luis', 'Divya', 'Maria', 'Mimi']\n",
        "student_names.append('Arnold')\n",
        "print(student_names)"
      ],
      "metadata": {
        "colab": {
          "base_uri": "https://localhost:8080/"
        },
        "id": "9GX4ccrVBvRX",
        "outputId": "78112b79-c991-4d84-81d1-e98b63161895"
      },
      "id": "9GX4ccrVBvRX",
      "execution_count": null,
      "outputs": [
        {
          "output_type": "stream",
          "name": "stdout",
          "text": [
            "['Luis', 'Divya', 'Maria', 'Mimi', 'Arnold']\n"
          ]
        }
      ]
    },
    {
      "cell_type": "code",
      "execution_count": null,
      "id": "f711c2d8",
      "metadata": {
        "id": "f711c2d8"
      },
      "outputs": [],
      "source": [
        "# find the sum of element in a list\n",
        "# nums = (3, 8, -4, 22, 0,)\n",
        "\n",
        "#for num in nums\n",
        "#num = num--1"
      ]
    },
    {
      "cell_type": "code",
      "source": [
        "# find the sum of element in a list\n",
        "nums = (3, 8, -4, 22, 0)\n",
        "total = 0\n",
        "\n",
        "for num in nums:\n",
        "    total += num\n",
        "\n",
        "print(total)"
      ],
      "metadata": {
        "colab": {
          "base_uri": "https://localhost:8080/"
        },
        "id": "KgHohMNnB96U",
        "outputId": "106d968e-73e3-4151-f791-c14a4af854b9"
      },
      "id": "KgHohMNnB96U",
      "execution_count": 1,
      "outputs": [
        {
          "output_type": "stream",
          "name": "stdout",
          "text": [
            "29\n"
          ]
        }
      ]
    },
    {
      "cell_type": "code",
      "execution_count": null,
      "id": "85983334",
      "metadata": {
        "id": "85983334"
      },
      "outputs": [],
      "source": [
        "# ages = {\n",
        "# 'Ahmed': 21,\n",
        "# 'Faraz: 21\n",
        "# Sarah': 41\n",
        "# }\n",
        "\n",
        "# print('Faraz is {ages} years old.'.format(ages : 24))"
      ]
    },
    {
      "cell_type": "code",
      "source": [
        "ages = {'Ahmed': 21, 'Faraz': 21, 'Sarah': 41}\n",
        "print('Faraz is {age} years old.'.format(age=ages['Faraz']))"
      ],
      "metadata": {
        "colab": {
          "base_uri": "https://localhost:8080/"
        },
        "id": "jG7dnsIoGtii",
        "outputId": "282efde9-60a3-47f2-e20e-8eac63c26086"
      },
      "id": "jG7dnsIoGtii",
      "execution_count": 2,
      "outputs": [
        {
          "output_type": "stream",
          "name": "stdout",
          "text": [
            "Faraz is 21 years old.\n"
          ]
        }
      ]
    },
    {
      "cell_type": "code",
      "execution_count": null,
      "id": "9ce3605b",
      "metadata": {
        "id": "9ce3605b"
      },
      "outputs": [],
      "source": [
        "# Define Mutable and immutable data types with example.\n",
        "# write a syntax of for loop"
      ]
    },
    {
      "cell_type": "markdown",
      "source": [
        "# Define Mutable and immutable data types with example.\n",
        "### Answer: Mutable Data is data that can be changed. For example, Lists, Dictionaries. Immutable Data is data that cannot be changed. For example, Tuples.\n",
        "# Write a syntax of for loop.\n",
        "### The for loop is used to iterate the value in a given variable, list or range. For example, in the code below, we can see the 'i' iterator is required to go and look in the range (iterable) between 1 and 20 (21 is exclusive), and print the range.\n",
        "### Example:\n",
        "### for i in range(1,21):\n",
        "###     print(i)\n"
      ],
      "metadata": {
        "id": "w5ZTQYvGFZIA"
      },
      "id": "w5ZTQYvGFZIA"
    }
  ],
  "metadata": {
    "kernelspec": {
      "display_name": "Python 3",
      "language": "python",
      "name": "python3"
    },
    "language_info": {
      "codemirror_mode": {
        "name": "ipython",
        "version": 3
      },
      "file_extension": ".py",
      "mimetype": "text/x-python",
      "name": "python",
      "nbconvert_exporter": "python",
      "pygments_lexer": "ipython3",
      "version": "3.8.8"
    },
    "colab": {
      "provenance": []
    }
  },
  "nbformat": 4,
  "nbformat_minor": 5
}