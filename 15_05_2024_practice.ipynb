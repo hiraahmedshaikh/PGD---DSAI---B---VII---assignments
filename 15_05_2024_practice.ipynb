{
  "nbformat": 4,
  "nbformat_minor": 0,
  "metadata": {
    "colab": {
      "provenance": []
    },
    "kernelspec": {
      "name": "python3",
      "display_name": "Python 3"
    },
    "language_info": {
      "name": "python"
    }
  },
  "cells": [
    {
      "cell_type": "markdown",
      "source": [
        "Python questions focusing on for loops, lists, list functions, and operators:"
      ],
      "metadata": {
        "id": "EAzH9x4fTqsj"
      }
    },
    {
      "cell_type": "code",
      "source": [
        "#Option 1 --> 1. Write a Python program to print the numbers from 1 to 10 using a for loop.\n",
        "num = 1,2,3,4,5,6,7,8,9,10\n",
        "for i in num:\n",
        "  print(i)\n",
        "print()\n",
        "#Option 2 --> 1. Write a Python program to print the numbers from 1 to 10 using a for loop.\n",
        "for i in range(1,11):\n",
        "  print(i)"
      ],
      "metadata": {
        "colab": {
          "base_uri": "https://localhost:8080/"
        },
        "id": "35RK67TnTN0V",
        "outputId": "aedec3b0-dd7f-4c99-c419-25503a51e953"
      },
      "execution_count": null,
      "outputs": [
        {
          "output_type": "stream",
          "name": "stdout",
          "text": [
            "1\n",
            "2\n",
            "3\n",
            "4\n",
            "5\n",
            "6\n",
            "7\n",
            "8\n",
            "9\n",
            "10\n",
            "\n",
            "1\n",
            "2\n",
            "3\n",
            "4\n",
            "5\n",
            "6\n",
            "7\n",
            "8\n",
            "9\n",
            "10\n"
          ]
        }
      ]
    },
    {
      "cell_type": "code",
      "source": [
        "# 2. Create a list containing the numbers 1 to 5. Then, using a for loop, print each element of the list.\n",
        "num = [1,2,3,4,5]\n",
        "for i in num:\n",
        "  print(i)"
      ],
      "metadata": {
        "colab": {
          "base_uri": "https://localhost:8080/"
        },
        "id": "QTurrPy0TjeD",
        "outputId": "c862de6f-f466-49d4-8982-bd3f27b95423"
      },
      "execution_count": null,
      "outputs": [
        {
          "output_type": "stream",
          "name": "stdout",
          "text": [
            "1\n",
            "2\n",
            "3\n",
            "4\n",
            "5\n"
          ]
        }
      ]
    },
    {
      "cell_type": "code",
      "source": [
        "# 3. Write a program that takes a list of numbers and returns the sum of all the numbers in the list.\n",
        "num1 = [1, 3, 5, 7, 9]\n",
        "total = sum(num1)\n",
        "print(\"The sum of all the numbers in the list is:\", total)"
      ],
      "metadata": {
        "id": "LQIJRv0pTkXe",
        "colab": {
          "base_uri": "https://localhost:8080/"
        },
        "outputId": "1c45716e-6230-436e-d9ee-6a175d2b56fe"
      },
      "execution_count": null,
      "outputs": [
        {
          "output_type": "stream",
          "name": "stdout",
          "text": [
            "The sum of all the numbers in the list is: 25\n"
          ]
        }
      ]
    },
    {
      "cell_type": "code",
      "source": [
        "# 4. Given a list of strings, write a program to concatenate all the strings into one.\n",
        "firstname = [\"Hira\"]\n",
        "middlename = [\"Ahmed\"]\n",
        "lastname = [\"Shaikh\"]\n",
        "fullname = \" \".join(firstname+middlename+lastname) #concatinate\n",
        "print(fullname)"
      ],
      "metadata": {
        "id": "YTmvrQ8UTlJu",
        "colab": {
          "base_uri": "https://localhost:8080/"
        },
        "outputId": "180b5448-0288-4951-e00b-48bba4a3fdeb"
      },
      "execution_count": null,
      "outputs": [
        {
          "output_type": "stream",
          "name": "stdout",
          "text": [
            "Hira Ahmed Shaikh\n"
          ]
        }
      ]
    },
    {
      "cell_type": "code",
      "source": [
        "# # 4. Given a list of strings, write a program to concatenate all the strings into one.\n",
        "# firstname = [\"Hira\"]\n",
        "# middlename = [\"Ahmed\"]\n",
        "# lastname = [\"Shaikh\"]\n",
        "# fullname = firstname+middlename+lastname #this is appending\n",
        "# print(fullname)\n",
        "# Output = ['Hira', 'Ahmed', 'Shaikh']"
      ],
      "metadata": {
        "id": "ekLphuHLgTXN"
      },
      "execution_count": null,
      "outputs": []
    },
    {
      "cell_type": "code",
      "source": [
        "# 5. Write a program that takes a list of numbers and returns the largest number in the list.\n",
        "num_list = [50,20,10,30,40]\n",
        "print(max(num_list)) # max() function in Python, which returns the largest item in an iterable."
      ],
      "metadata": {
        "id": "Xdq0zgYOTmN-",
        "colab": {
          "base_uri": "https://localhost:8080/"
        },
        "outputId": "2fa873b3-9abd-4320-fec6-f517eeafc9ea"
      },
      "execution_count": null,
      "outputs": [
        {
          "output_type": "stream",
          "name": "stdout",
          "text": [
            "50\n"
          ]
        }
      ]
    },
    {
      "cell_type": "code",
      "source": [
        "# 6. Create a list containing the numbers 1 to 10. Using a for loop, square each number in the list and print the result.\n",
        "nums = [1,2,3,4,5,6,7,8,9,10]\n",
        "\n",
        "for i in nums:\n",
        "  print(i**2)"
      ],
      "metadata": {
        "id": "iPHRqCF7Tnhu",
        "colab": {
          "base_uri": "https://localhost:8080/"
        },
        "outputId": "feae77ae-97bf-418a-b73f-e657a0783913"
      },
      "execution_count": null,
      "outputs": [
        {
          "output_type": "stream",
          "name": "stdout",
          "text": [
            "1\n",
            "4\n",
            "9\n",
            "16\n",
            "25\n",
            "36\n",
            "49\n",
            "64\n",
            "81\n",
            "100\n"
          ]
        }
      ]
    },
    {
      "cell_type": "code",
      "source": [
        "# 7. Write a program that takes a list of numbers and returns a new list containing only the even numbers from the original list.\n",
        "num_list = [1,2,3,4,5,6,7,8,9,10]\n",
        "even_num_list = [i for i in num_list if i % 2 == 0]\n",
        "print(even_num_list)"
      ],
      "metadata": {
        "id": "8FNXZlNRTtUB",
        "colab": {
          "base_uri": "https://localhost:8080/"
        },
        "outputId": "44f85559-d033-4ce9-dd0e-3b86f1b6438d"
      },
      "execution_count": null,
      "outputs": [
        {
          "output_type": "stream",
          "name": "stdout",
          "text": [
            "[2, 4, 6, 8, 10]\n"
          ]
        }
      ]
    },
    {
      "cell_type": "code",
      "source": [
        "# 8. Given two lists of numbers, write a program to combine the lists element-wise (i.e., element-wise addition).\n",
        "num_list1 = [1,2,3,4,5,6,7,8,9]\n",
        "num_list2 = [9,8,7,6,5,4,3,2,1]\n",
        "combined_list = [num1+num2 for num1 , num2 in zip(num_list1, num_list2)] #element-wise addition of the two lists.\n",
        "print(combined_list)"
      ],
      "metadata": {
        "id": "DbN15hDNTuwv",
        "colab": {
          "base_uri": "https://localhost:8080/"
        },
        "outputId": "7e43b801-6535-41f8-efec-f485e85613b4"
      },
      "execution_count": null,
      "outputs": [
        {
          "output_type": "stream",
          "name": "stdout",
          "text": [
            "[10, 10, 10, 10, 10, 10, 10, 10, 10]\n"
          ]
        }
      ]
    },
    {
      "cell_type": "code",
      "source": [
        "# 9. Write a program that takes a list of strings and returns a new list containing the lengths of each string.\n",
        "list1 = ['Hira','Zahid','Huzaifa','Fatima','Faheem']\n",
        "\n",
        "print([len(string) for string in list1])\n",
        "#This code iterates over each string in list1, calculates the length of each string using the len() function, and collects these lengths into a new list lengths. Finally, it prints the lengths list."
      ],
      "metadata": {
        "id": "jfnkhSNxTwJv",
        "colab": {
          "base_uri": "https://localhost:8080/"
        },
        "outputId": "8eb389cd-dd70-4679-95a5-59e46d8c1a38"
      },
      "execution_count": null,
      "outputs": [
        {
          "output_type": "stream",
          "name": "stdout",
          "text": [
            "[4, 5, 7, 6, 6]\n"
          ]
        }
      ]
    },
    {
      "cell_type": "code",
      "source": [
        "# 10. Create a list of numbers from 1 to 10. Using list slicing and a for loop, print every second element of the list.\n",
        "nlist = [1,2,3,4,5,6,7,8,9,10]\n",
        "print(nlist[::2])"
      ],
      "metadata": {
        "id": "6OuowAbFTxiM",
        "colab": {
          "base_uri": "https://localhost:8080/"
        },
        "outputId": "b56598db-d333-4920-cdca-4e357978139c"
      },
      "execution_count": null,
      "outputs": [
        {
          "output_type": "stream",
          "name": "stdout",
          "text": [
            "[1, 3, 5, 7, 9]\n"
          ]
        }
      ]
    },
    {
      "cell_type": "code",
      "source": [
        "# 1-Write a program to convert Celsius to Fahrenheit.\n",
        "#Formula: (0°C × 9/5) + 32\n",
        "temp_c = int(input(\"Input Temperature in Celsius: \" ))\n",
        "temp_f = (temp_c * 9/5) + 32\n",
        "print(\"The Temperature in Fahrenheit is:\", temp_f)"
      ],
      "metadata": {
        "id": "KylHZOzKIUQE",
        "colab": {
          "base_uri": "https://localhost:8080/"
        },
        "outputId": "479e4450-711d-4ba2-95fe-99f703138751"
      },
      "execution_count": null,
      "outputs": [
        {
          "output_type": "stream",
          "name": "stdout",
          "text": [
            "Input Temperature in Celsius: 45\n",
            "The Temperature in Fahrenheit is: 113.0\n"
          ]
        }
      ]
    },
    {
      "cell_type": "code",
      "source": [
        "# 2-Write a program to check if a number is prime.\n",
        "val = int(input(\"Enter a Number: \"))\n",
        "if val > 1:\n",
        "    for i in range(2, int(val ** 0.5) + 1):\n",
        "        if val % i == 0:\n",
        "            print(\"It is not a prime number.\")\n",
        "            break\n",
        "    else:\n",
        "        print(\"It is a prime number.\")\n",
        "else:\n",
        "    print(\"It is not a prime number.\")"
      ],
      "metadata": {
        "id": "AZKui-d_TbRd",
        "colab": {
          "base_uri": "https://localhost:8080/"
        },
        "outputId": "8af0372e-22bb-4b3d-a242-a2af0b7ac776"
      },
      "execution_count": null,
      "outputs": [
        {
          "output_type": "stream",
          "name": "stdout",
          "text": [
            "Enter a Number: 3\n",
            "It is a prime number.\n"
          ]
        }
      ]
    },
    {
      "cell_type": "code",
      "source": [
        "# 3-Write a program to check if a string is a palindrome.\n",
        "val = input(\"Enter a String (in lower case): \")\n",
        "if val == val[::-1]:\n",
        "  print(\"The string is a palindrome.\")\n",
        "else:\n",
        "  print(\"The string is not a palindrome.\")"
      ],
      "metadata": {
        "id": "t8js1SnwT23f",
        "colab": {
          "base_uri": "https://localhost:8080/"
        },
        "outputId": "c197a951-c955-415c-a3e5-37840424c3c5"
      },
      "execution_count": null,
      "outputs": [
        {
          "output_type": "stream",
          "name": "stdout",
          "text": [
            "Enter a String (in lower case): opopo\n",
            "The string is a palindrome.\n"
          ]
        }
      ]
    },
    {
      "cell_type": "code",
      "source": [
        "# 4-Write a program to reverse a string or list.\n",
        "list1 = [2,4,6,8,10]\n",
        "list1.reverse()\n",
        "print(\"Reversed list:\", list1)\n",
        "\n",
        "string1 = [\"a\",\"b\",\"c\"]\n",
        "string1.reverse()\n",
        "print(\"Reversed list:\", string1)\n",
        "\n",
        "string1 = \"abcd\"\n",
        "reversed_string = string1[::-1] # Reversing a string using slicing\n",
        "print(reversed_string)"
      ],
      "metadata": {
        "id": "jP9Rw76gT34v",
        "colab": {
          "base_uri": "https://localhost:8080/"
        },
        "outputId": "67371d1c-4c4a-437d-da7f-de3539a51dd5"
      },
      "execution_count": null,
      "outputs": [
        {
          "output_type": "stream",
          "name": "stdout",
          "text": [
            "Reversed list: [10, 8, 6, 4, 2]\n",
            "Reversed list: ['c', 'b', 'a']\n",
            "dcba\n"
          ]
        }
      ]
    },
    {
      "cell_type": "code",
      "source": [
        "# 5-Write a program to find the largest number in a list.\n",
        "list_a = [2,4,6,8,10,100]\n",
        "print(\"The largest number in the list is:\", max(list_a))"
      ],
      "metadata": {
        "id": "x_MlDhI2T4sX",
        "colab": {
          "base_uri": "https://localhost:8080/"
        },
        "outputId": "67b31dc6-50da-492e-8b1a-88a78855df92"
      },
      "execution_count": null,
      "outputs": [
        {
          "output_type": "stream",
          "name": "stdout",
          "text": [
            "The largest number in the list is: 100\n"
          ]
        }
      ]
    },
    {
      "cell_type": "code",
      "source": [
        "# 6-Write a program to find the sum of all numbers in a list.\n",
        "list_a = [2,4,6,8,10]\n",
        "print(\"The sum of all the numbers in the list is:\", sum(list_a))"
      ],
      "metadata": {
        "id": "ffxSu_S0T5db",
        "colab": {
          "base_uri": "https://localhost:8080/"
        },
        "outputId": "bce49af3-a800-45e1-919a-44084a9259b8"
      },
      "execution_count": null,
      "outputs": [
        {
          "output_type": "stream",
          "name": "stdout",
          "text": [
            "The sum of all the numbers in the list is: 30\n"
          ]
        }
      ]
    },
    {
      "cell_type": "code",
      "source": [
        "# 7-Write a program to check if a number is even or odd.\n",
        "n = int(input(\"Enter a number here: \"))\n",
        "\n",
        "if n%2==0:\n",
        "   print(\"The number is Even\")\n",
        "else:\n",
        "  print(\"The number is Odd\")"
      ],
      "metadata": {
        "id": "pKunkEQXT6Jb",
        "colab": {
          "base_uri": "https://localhost:8080/"
        },
        "outputId": "7895f08d-8649-4964-ffc4-010494a0b325"
      },
      "execution_count": null,
      "outputs": [
        {
          "output_type": "stream",
          "name": "stdout",
          "text": [
            "Enter a number here: 7\n",
            "The number is Odd\n"
          ]
        }
      ]
    },
    {
      "cell_type": "code",
      "source": [],
      "metadata": {
        "id": "G35huLEqVCkp"
      },
      "execution_count": null,
      "outputs": []
    }
  ]
}