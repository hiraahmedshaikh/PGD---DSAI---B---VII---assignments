{
  "nbformat": 4,
  "nbformat_minor": 0,
  "metadata": {
    "colab": {
      "provenance": []
    },
    "kernelspec": {
      "name": "python3",
      "display_name": "Python 3"
    },
    "language_info": {
      "name": "python"
    }
  },
  "cells": [
    {
      "cell_type": "code",
      "execution_count": 2,
      "metadata": {
        "colab": {
          "base_uri": "https://localhost:8080/"
        },
        "id": "rfZNdb7J2f7G",
        "outputId": "024034e8-6cee-464d-8cd0-4fb91e6e87e2"
      },
      "outputs": [
        {
          "output_type": "stream",
          "name": "stdout",
          "text": [
            "Enter a number here 20\n",
            "Not Weird\n",
            "Not Weird\n"
          ]
        }
      ],
      "source": [
        "min_num = 1\n",
        "max_num = 100\n",
        "n = int(input(\"Enter a number here \"))\n",
        "\n",
        "if n%2==0:\n",
        "    print(\"Not Weird\")\n",
        "if n in range(min_num, max_num):\n",
        "    print(\"Not Weird\")\n",
        ""
      ]
    },
    {
      "cell_type": "code",
      "source": [
        "# Given an integer, , perform the following conditional actions:\n",
        "\n",
        "# If n is odd, print Weird\n",
        "# If n is even and in the inclusive range of 2 to 5, print Not Weird\n",
        "# If n is even and in the inclusive range of 6 to 20, print Weird\n",
        "# If n is even and greater than 20, print Not Weird"
      ],
      "metadata": {
        "id": "cdZNyW7HQmgO"
      },
      "execution_count": null,
      "outputs": []
    },
    {
      "cell_type": "code",
      "source": [
        "n = int(input(\"Enter a number here \"))\n",
        "\n",
        "if n%2==0:\n",
        "   print(\"Not Weird\")\n",
        "elif n%2==1:\n",
        "  print(\"Weird\")\n",
        "if n%2==0 and n in range(2,5):\n",
        "   print(\"Not Weird\")\n",
        "if n%2==0 and n in range(6,20):\n",
        "   print(\"Weird\")\n",
        "if n%2==0 and n >20:\n",
        "   print(\"Not Weird\")"
      ],
      "metadata": {
        "colab": {
          "base_uri": "https://localhost:8080/"
        },
        "id": "f8qTmHdoQMO9",
        "outputId": "f42c36fe-6f19-4b77-d7c4-3759221eda7a"
      },
      "execution_count": 15,
      "outputs": [
        {
          "output_type": "stream",
          "name": "stdout",
          "text": [
            "Enter a number here 20\n",
            "Not Weird\n"
          ]
        }
      ]
    },
    {
      "cell_type": "code",
      "source": [
        "# Given an integer, , perform the following conditional actions:\n",
        "\n",
        "# If n is odd, print Weird\n",
        "# If n is even and in the inclusive range of 2 to 5, print Not Weird\n",
        "# If n is even and in the inclusive range of 6 to 20, print Weird\n",
        "# If n is even and greater than 20, print Not Weird"
      ],
      "metadata": {
        "id": "r14qAj-pdsjW"
      },
      "execution_count": null,
      "outputs": []
    },
    {
      "cell_type": "code",
      "source": [
        "n = int(input(\"Enter a number here \"))\n",
        "if n%2==0:\n",
        "   print(\"Not Weird\")\n",
        "elif n%2==1:\n",
        "  print(\"Weird\")\n",
        "if n >= 2 and n <= 5:\n",
        "  print(\"Not Weird\")\n",
        "elif n >= 6 and n <= 20:\n",
        "  print(\"Weird\")\n",
        "elif n > 20:\n",
        "  print(\"Not Weird\")"
      ],
      "metadata": {
        "colab": {
          "base_uri": "https://localhost:8080/"
        },
        "id": "w2ca3I0zRv7p",
        "outputId": "078f448b-2f43-418e-f629-b39954118a8f"
      },
      "execution_count": 24,
      "outputs": [
        {
          "output_type": "stream",
          "name": "stdout",
          "text": [
            "Enter a number here 2\n",
            "Not Weird\n",
            "Not Weird\n"
          ]
        }
      ]
    },
    {
      "cell_type": "code",
      "source": [
        "# The provided code stub reads two integers from STDIN, a and b Add code to print three lines where:\n",
        "\n",
        "# The first line contains the sum of the two numbers.\n",
        "# The second line contains the difference of the two numbers (first - second).\n",
        "# The third line contains the product of the two numbers."
      ],
      "metadata": {
        "id": "pS0IW6lMek7O"
      },
      "execution_count": null,
      "outputs": []
    },
    {
      "cell_type": "code",
      "source": [
        "a = int(input())\n",
        "b = int(input())\n",
        "\n",
        "print(\"the sum of {} and {} is {}\".format(\"a\" , \"b\" , a + b))\n",
        "print(\"the difference of {} and {} is {}\".format(\"a\" , \"b\" , a - b))\n",
        "print(\"the product of {} and {} is {}\".format(\"a\" , \"b\" , a * b))"
      ],
      "metadata": {
        "colab": {
          "base_uri": "https://localhost:8080/"
        },
        "id": "APHSVJ1pcDt8",
        "outputId": "aecb57d9-8e09-46d9-a29f-abd1c9e96195"
      },
      "execution_count": 30,
      "outputs": [
        {
          "output_type": "stream",
          "name": "stdout",
          "text": [
            "2\n",
            "3\n",
            "the sum of a and b is 5\n",
            "the difference of a and b is -1\n",
            "the product of a and b is 6\n"
          ]
        }
      ]
    },
    {
      "cell_type": "code",
      "source": [
        "# The provided code stub reads two integers,a and b, from STDIN.\n",
        "# Add logic to print two lines. The first line should contain the result of integer division, a//b. The second line should contain the result of float division, a/b.\n",
        "# No rounding or formatting is necessary."
      ],
      "metadata": {
        "id": "gPhTfs-sfQj1"
      },
      "execution_count": null,
      "outputs": []
    },
    {
      "cell_type": "code",
      "source": [
        "a = int(input())\n",
        "b = int(input())\n",
        "\n",
        "print(a // b)\n",
        "print(a / b)"
      ],
      "metadata": {
        "colab": {
          "base_uri": "https://localhost:8080/"
        },
        "id": "cPuoMA2tg_Vj",
        "outputId": "85f0addd-02cb-477e-8838-ddd044ae6b5e"
      },
      "execution_count": 31,
      "outputs": [
        {
          "output_type": "stream",
          "name": "stdout",
          "text": [
            "8\n",
            "2\n",
            "4\n",
            "4.0\n"
          ]
        }
      ]
    },
    {
      "cell_type": "code",
      "source": [
        "a = int(input())\n",
        "b = int(input())\n",
        "\n",
        "print(\"the result of integer division {} // {} is {}\".format(str(a) , str(b)  , a // b))\n",
        "print(\"the result of float division {} / {} is {}\".format(str(a) , str(b) , a / b))"
      ],
      "metadata": {
        "colab": {
          "base_uri": "https://localhost:8080/"
        },
        "id": "QNv5Lq_YhsgS",
        "outputId": "e76c059f-f33f-4350-cea8-08e767b460fe"
      },
      "execution_count": 35,
      "outputs": [
        {
          "output_type": "stream",
          "name": "stdout",
          "text": [
            "8\n",
            "2\n",
            "the result of integer division 8 // 2 is 4\n",
            "the result of float division 8 / 2 is 4.0\n"
          ]
        }
      ]
    },
    {
      "cell_type": "code",
      "source": [
        "# The provided code stub reads and integer,n, from STDIN. For all non-negative integers i<n, print i^2."
      ],
      "metadata": {
        "id": "onqZZc6JilkA"
      },
      "execution_count": null,
      "outputs": []
    },
    {
      "cell_type": "code",
      "source": [
        "n = int(input())\n",
        "\n",
        "for i in range(n):\n",
        "  print(i**2)\n"
      ],
      "metadata": {
        "colab": {
          "base_uri": "https://localhost:8080/"
        },
        "id": "gbE3jswZjb2Q",
        "outputId": "f83c679c-69bd-46fa-a020-95b9249b8cb5"
      },
      "execution_count": 39,
      "outputs": [
        {
          "output_type": "stream",
          "name": "stdout",
          "text": [
            "3\n",
            "0\n",
            "1\n",
            "4\n"
          ]
        }
      ]
    },
    {
      "cell_type": "code",
      "source": [
        "# 4. Write a Python program to construct the following pattern, using a nested for loop.\n",
        "\n",
        "# *\n",
        "# * *\n",
        "# * * *\n",
        "# * * * *\n",
        "# * * * * *\n",
        "# * * * *\n",
        "# * * *\n",
        "# * *\n",
        "# *"
      ],
      "metadata": {
        "id": "cq-LOoTDm2zR"
      },
      "execution_count": 41,
      "outputs": []
    },
    {
      "cell_type": "code",
      "source": [
        "n = 5\n",
        "for i in range(n):\n",
        "  for j in range(i):\n",
        "    print('* ', end=\"\")\n",
        "  print('')"
      ],
      "metadata": {
        "colab": {
          "base_uri": "https://localhost:8080/"
        },
        "id": "Tjn7SsB5oouC",
        "outputId": "05694753-58fb-4271-f285-843ee27cc67f"
      },
      "execution_count": 45,
      "outputs": [
        {
          "output_type": "stream",
          "name": "stdout",
          "text": [
            "*\n",
            "* *\n",
            "* * *\n",
            "* * * *\n",
            "* * * * *\n",
            "* * * *\n",
            "* * *\n",
            "* *\n",
            "*\n"
          ]
        }
      ]
    },
    {
      "cell_type": "code",
      "source": [
        "# Set the value of 'n' to 5 (this will determine the number of lines in the pattern)\n",
        "n = 5\n",
        "\n",
        "# Iterate through the range of numbers from 0 to 'n' (exclusive)\n",
        "for i in range(n):\n",
        "    # Iterate through the range of numbers from 0 to 'i' (exclusive) for each 'i' in the outer loop\n",
        "    for j in range(i):\n",
        "        # Print '*' followed by a space without a new line (end=\"\" ensures printing in the same line)\n",
        "        print('* ', end=\"\")\n",
        "    # Move to the next line after printing '*' characters for the current 'i'\n",
        "    print('')\n",
        "\n",
        "# Iterate through the range of numbers from 'n' down to 1 (inclusive), decreasing by 1 in each iteration\n",
        "for i in range(n, 0, -1):\n",
        "    # Iterate through the range of numbers from 0 to 'i' (exclusive) for each 'i' in the outer loop\n",
        "    for j in range(i):\n",
        "        # Print '*' followed by a space without a new line (end=\"\" ensures printing in the same line)\n",
        "        print('* ', end=\"\")\n",
        "    # Move to the next line after printing '*' characters for the current 'i'\n",
        "    print('')\n",
        ""
      ],
      "metadata": {
        "colab": {
          "base_uri": "https://localhost:8080/"
        },
        "id": "XdR0jiCWq1H5",
        "outputId": "fed43a35-929a-4e34-ef61-14c6a4295ca4"
      },
      "execution_count": 46,
      "outputs": [
        {
          "output_type": "stream",
          "name": "stdout",
          "text": [
            "\n",
            "* \n",
            "* * \n",
            "* * * \n",
            "* * * * \n",
            "* * * * * \n",
            "* * * * \n",
            "* * * \n",
            "* * \n",
            "* \n"
          ]
        }
      ]
    },
    {
      "cell_type": "code",
      "source": [
        "# Write a Python program to count the number of even and odd numbers in a series of numbers\n",
        "# Sample numbers : numbers = (1, 2, 3, 4, 5, 6, 7, 8, 9)\n",
        "# Expected Output :\n",
        "# Number of even numbers : 5\n",
        "# Number of odd numbers : 4"
      ],
      "metadata": {
        "id": "UtHPABqSsT64"
      },
      "execution_count": null,
      "outputs": []
    },
    {
      "cell_type": "code",
      "source": [
        "n = (1, 2, 3, 4, 5, 6, 7, 8, 9)\n",
        "evens = 0\n",
        "odds = 0\n",
        "\n",
        "for num in n:\n",
        "    if num % 2 == 0:\n",
        "        evens += 1\n",
        "    else:\n",
        "        odds += 1\n",
        "\n",
        "print(\"Number of even numbers:\", evens)\n",
        "print(\"Number of odd numbers:\", odds)"
      ],
      "metadata": {
        "colab": {
          "base_uri": "https://localhost:8080/"
        },
        "id": "2INVCiqy2Axv",
        "outputId": "939d61cf-7faa-4764-937f-f48828afa3e7"
      },
      "execution_count": 76,
      "outputs": [
        {
          "output_type": "stream",
          "name": "stdout",
          "text": [
            "Number of even numbers: 4\n",
            "Number of odd numbers: 5\n"
          ]
        }
      ]
    },
    {
      "cell_type": "code",
      "source": [
        "# The included code stub will read an integer, n, from STDIN. Without using any string methods, try to print the following: 123……..n\n",
        "# Note that \"...\" represents the consecutive values in between."
      ],
      "metadata": {
        "id": "vU911_UaE2MP"
      },
      "execution_count": null,
      "outputs": []
    },
    {
      "cell_type": "code",
      "source": [
        "n = int(input())\n",
        "\n",
        "for i in range(1,n+1):\n",
        "  print(i,end='')"
      ],
      "metadata": {
        "colab": {
          "base_uri": "https://localhost:8080/"
        },
        "id": "pqiSkxA54rsT",
        "outputId": "e038a820-d2ae-4276-8596-94c226116678"
      },
      "execution_count": 87,
      "outputs": [
        {
          "output_type": "stream",
          "name": "stdout",
          "text": [
            "5\n",
            "12345"
          ]
        }
      ]
    }
  ]
}