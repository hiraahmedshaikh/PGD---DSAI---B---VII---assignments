{
  "nbformat": 4,
  "nbformat_minor": 0,
  "metadata": {
    "colab": {
      "provenance": []
    },
    "kernelspec": {
      "name": "python3",
      "display_name": "Python 3"
    },
    "language_info": {
      "name": "python"
    }
  },
  "cells": [
    {
      "cell_type": "markdown",
      "source": [
        "# **Basic Python Program for Practice**\n",
        "### 1-Write a program to convert Celsius to Fahrenheit.\n",
        "### 2-Write a program to check if a number is prime.\n",
        "### 3-Write a program to check if a string is a palindrome.\n",
        "### 4-Write a program to reverse a string or list.\n",
        "### 5-Write a program to find the largest number in a list.\n",
        "### 6-Write a program to find the sum of all numbers in a list.\n",
        "### 7-Write a program to check if a number is even or odd."
      ],
      "metadata": {
        "id": "3VX5fvUXeLDa"
      }
    },
    {
      "cell_type": "code",
      "execution_count": 1,
      "metadata": {
        "colab": {
          "base_uri": "https://localhost:8080/"
        },
        "id": "XISrMkOveCGd",
        "outputId": "beba0e05-85d4-4e18-8511-fba1ee900bc8"
      },
      "outputs": [
        {
          "output_type": "stream",
          "name": "stdout",
          "text": [
            "Input Temperature in Celsius: 45\n",
            "The Temperature in Fahrenheit is: 113.0\n"
          ]
        }
      ],
      "source": [
        "# 1-Write a program to convert Celsius to Fahrenheit.\n",
        "#Formula: (0°C × 9/5) + 32\n",
        "temp_c = int(input(\"Input Temperature in Celsius: \" ))\n",
        "temp_f = (temp_c * 9/5) + 32\n",
        "print(\"The Temperature in Fahrenheit is:\", temp_f)"
      ]
    },
    {
      "cell_type": "code",
      "source": [
        "# 2-Write a program to check if a number is prime.\n",
        "val = int(input(\"Enter a Number: \"))\n",
        "if val > 1:\n",
        "    for i in range(2, int(val ** 0.5) + 1):\n",
        "        if val % i == 0:\n",
        "            print(\"It is not a prime number.\")\n",
        "            break\n",
        "    else:\n",
        "        print(\"It is a prime number.\")\n",
        "else:\n",
        "    print(\"It is not a prime number.\")"
      ],
      "metadata": {
        "colab": {
          "base_uri": "https://localhost:8080/"
        },
        "id": "iJSafFPJeItF",
        "outputId": "afbf7f73-a6dc-4e0c-f4b6-e6ed960a4420"
      },
      "execution_count": 2,
      "outputs": [
        {
          "output_type": "stream",
          "name": "stdout",
          "text": [
            "Enter a Number: 3\n",
            "It is a prime number.\n"
          ]
        }
      ]
    },
    {
      "cell_type": "code",
      "source": [
        "# 3-Write a program to check if a string is a palindrome.\n",
        "val = input(\"Enter a String (in lower case): \")\n",
        "if val == val[::-1]:\n",
        "  print(\"The string is a palindrome.\")\n",
        "else:\n",
        "  print(\"The string is not a palindrome.\")"
      ],
      "metadata": {
        "colab": {
          "base_uri": "https://localhost:8080/"
        },
        "id": "XXEuXu7wesrd",
        "outputId": "8541fd39-5de1-4d41-adc4-2cedf02b2e0e"
      },
      "execution_count": 3,
      "outputs": [
        {
          "output_type": "stream",
          "name": "stdout",
          "text": [
            "Enter a String (in lower case): oppo\n",
            "The string is a palindrome.\n"
          ]
        }
      ]
    },
    {
      "cell_type": "code",
      "source": [
        "# 4-Write a program to reverse a string or list.\n",
        "list1 = [2,4,6,8,10]\n",
        "list1.reverse()\n",
        "print(\"Reversed list:\", list1)\n",
        "\n",
        "string1 = [\"a\",\"b\",\"c\"]\n",
        "string1.reverse()\n",
        "print(\"Reversed list:\", string1)\n",
        "\n",
        "string1 = \"abcd\"\n",
        "reversed_string = string1[::-1] # Reversing a string using slicing\n",
        "print(reversed_string)"
      ],
      "metadata": {
        "colab": {
          "base_uri": "https://localhost:8080/"
        },
        "id": "BZlk_JoNewi7",
        "outputId": "960886bb-d3a4-46e7-b2ff-bb50c54e3fb5"
      },
      "execution_count": 4,
      "outputs": [
        {
          "output_type": "stream",
          "name": "stdout",
          "text": [
            "Reversed list: [10, 8, 6, 4, 2]\n",
            "Reversed list: ['c', 'b', 'a']\n",
            "dcba\n"
          ]
        }
      ]
    },
    {
      "cell_type": "code",
      "source": [
        "# 5-Write a program to find the largest number in a list.\n",
        "list_a = [2,4,6,8,10,100]\n",
        "print(\"The largest number in the list is:\", max(list_a))\n"
      ],
      "metadata": {
        "colab": {
          "base_uri": "https://localhost:8080/"
        },
        "id": "xqzlIaMie2Fk",
        "outputId": "5c3b3f94-cd7e-4eeb-ac02-6f5845932f60"
      },
      "execution_count": 5,
      "outputs": [
        {
          "output_type": "stream",
          "name": "stdout",
          "text": [
            "The largest number in the list is: 100\n"
          ]
        }
      ]
    },
    {
      "cell_type": "code",
      "source": [
        "# 6-Write a program to find the sum of all numbers in a list.\n",
        "list_a = [2,4,6,8,10]\n",
        "print(\"The sum of all the numbers in the list is:\", sum(list_a))"
      ],
      "metadata": {
        "colab": {
          "base_uri": "https://localhost:8080/"
        },
        "id": "mAKmiMdke6gs",
        "outputId": "8788c0a6-3fff-4d27-814f-cc1b65b4d6d3"
      },
      "execution_count": 6,
      "outputs": [
        {
          "output_type": "stream",
          "name": "stdout",
          "text": [
            "The sum of all the numbers in the list is: 30\n"
          ]
        }
      ]
    },
    {
      "cell_type": "code",
      "source": [
        "# 7-Write a program to check if a number is even or odd.\n",
        "n = int(input(\"Enter a number here: \"))\n",
        "\n",
        "if n%2==0:\n",
        "   print(\"The number is Even\")\n",
        "else:\n",
        "  print(\"The number is Odd\")"
      ],
      "metadata": {
        "colab": {
          "base_uri": "https://localhost:8080/"
        },
        "id": "6gqzNg2fe_pT",
        "outputId": "2ec440f0-3d62-4076-fea3-5d00c18bcc12"
      },
      "execution_count": 7,
      "outputs": [
        {
          "output_type": "stream",
          "name": "stdout",
          "text": [
            "Enter a number here: 7\n",
            "The number is Odd\n"
          ]
        }
      ]
    },
    {
      "cell_type": "code",
      "source": [],
      "metadata": {
        "id": "do0wNHaDfFtD"
      },
      "execution_count": null,
      "outputs": []
    }
  ]
}