{
 "cells": [
  {
   "cell_type": "code",
   "execution_count": 1,
   "id": "494b4da3-a18c-4a75-a675-2076ed0172f2",
   "metadata": {},
   "outputs": [
    {
     "name": "stdin",
     "output_type": "stream",
     "text": [
      "Portfolio Name: Portfolio of Mr/Ms  Thomas Quinn\n",
      "First Name and Last Name:  Thomas Quinn\n",
      "Father Name:  Abigail Quinn\n",
      "Education:  MBA\n",
      "Gender:  Male\n",
      "Age:  28\n",
      "Profession:  Software Engineer\n"
     ]
    }
   ],
   "source": [
    "Pfolio = input(\"Portfolio Name: Portfolio of Mr/Ms \") \n",
    "Name = input(\"First Name and Last Name: \")\n",
    "FatherName = input(\"Father Name: \")\n",
    "Education = input(\"Education: \")\n",
    "Gender = input(\"Gender: \")\n",
    "Age = input(\"Age: \")\n",
    "Profession = input(\"Profession: \")"
   ]
  },
  {
   "cell_type": "code",
   "execution_count": 2,
   "id": "b85e81c3-0dc9-46c4-9820-87ad04097d79",
   "metadata": {},
   "outputs": [
    {
     "name": "stdout",
     "output_type": "stream",
     "text": [
      "==================================================================================\n",
      "==================================================================================\n",
      "Portfolio of Mr/Ms. Thomas Quinn\n",
      "==================================================================================\n",
      "\n",
      "First Name and Last Name:  Thomas Quinn\n",
      "Father Name:  Abigail Quinn\n",
      "Education:  MBA\n",
      "Gender:  Male\n",
      "Age:  28\n",
      "Profession:  Software Engineer\n",
      "==================================================================================\n",
      "==================================================================================\n"
     ]
    }
   ],
   "source": [
    "print(\"==================================================================================\")\n",
    "print(\"==================================================================================\")\n",
    "print(\"Portfolio of Mr/Ms.\" , Pfolio)\n",
    "print(\"==================================================================================\")\n",
    "print()\n",
    "print(\"First Name and Last Name: \" , Name)\n",
    "print(\"Father Name: \" , FatherName)\n",
    "print(\"Education: \" , Education)\n",
    "print(\"Gender: \" , Gender)\n",
    "print(\"Age: \" , Age)\n",
    "print(\"Profession: \" , Profession)\n",
    "print(\"==================================================================================\")\n",
    "print(\"==================================================================================\")"
   ]
  },
  {
   "cell_type": "code",
   "execution_count": null,
   "id": "2cdcc6ae-6140-488d-94ee-4e006e19a545",
   "metadata": {},
   "outputs": [],
   "source": []
  }
 ],
 "metadata": {
  "kernelspec": {
   "display_name": "Python 3 (ipykernel)",
   "language": "python",
   "name": "python3"
  },
  "language_info": {
   "codemirror_mode": {
    "name": "ipython",
    "version": 3
   },
   "file_extension": ".py",
   "mimetype": "text/x-python",
   "name": "python",
   "nbconvert_exporter": "python",
   "pygments_lexer": "ipython3",
   "version": "3.11.7"
  }
 },
 "nbformat": 4,
 "nbformat_minor": 5
}
