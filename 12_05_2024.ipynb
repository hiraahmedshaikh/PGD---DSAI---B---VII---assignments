{
  "nbformat": 4,
  "nbformat_minor": 0,
  "metadata": {
    "colab": {
      "provenance": []
    },
    "kernelspec": {
      "name": "python3",
      "display_name": "Python 3"
    },
    "language_info": {
      "name": "python"
    }
  },
  "cells": [
    {
      "cell_type": "code",
      "execution_count": 2,
      "metadata": {
        "colab": {
          "base_uri": "https://localhost:8080/"
        },
        "id": "q_AR-VMVxQql",
        "outputId": "92806d7b-1350-488f-e89b-344f308203aa"
      },
      "outputs": [
        {
          "output_type": "stream",
          "name": "stdout",
          "text": [
            "{'firstname': 'Hira', 'lastname': 'Ahmed', 'age': 35, 'city': 'Karachi', 'profession': 'Project Manager'}\n"
          ]
        },
        {
          "output_type": "execute_result",
          "data": {
            "text/plain": [
              "5"
            ]
          },
          "metadata": {},
          "execution_count": 2
        }
      ],
      "source": [
        "person = {\"firstname\":\"Hira\", \"lastname\":\"Ahmed\",\"age\":35,\"city\":\"Karachi\",\"profession\":\"Project Manager\"}\n",
        "print(person)\n",
        "len(person) #length of dictionary"
      ]
    },
    {
      "cell_type": "code",
      "source": [
        "person[\"profession\"] = \"Senior Project Manager\" #Modify dictionary\n",
        "print(person)"
      ],
      "metadata": {
        "colab": {
          "base_uri": "https://localhost:8080/"
        },
        "id": "I6TWrhZ9xaXI",
        "outputId": "c8076eab-f1c4-40dd-dafc-8dce5a482797"
      },
      "execution_count": 3,
      "outputs": [
        {
          "output_type": "stream",
          "name": "stdout",
          "text": [
            "{'firstname': 'Hira', 'lastname': 'Ahmed', 'age': 35, 'city': 'Karachi', 'profession': 'Senior Project Manager'}\n"
          ]
        }
      ]
    },
    {
      "cell_type": "code",
      "source": [
        "person[\"hobbies\"] = [\"gardening\", \"movies\",\"music\"] #Adding list to existing dictionary\n",
        "print(person)"
      ],
      "metadata": {
        "colab": {
          "base_uri": "https://localhost:8080/"
        },
        "id": "wCXhCHcxyRYk",
        "outputId": "dcdace76-98ff-47bd-cfac-1742bcca1aba"
      },
      "execution_count": 4,
      "outputs": [
        {
          "output_type": "stream",
          "name": "stdout",
          "text": [
            "{'firstname': 'Hira', 'lastname': 'Ahmed', 'age': 35, 'city': 'Karachi', 'profession': 'Senior Project Manager', 'hobbies': ['gardening', 'movies', 'music']}\n"
          ]
        }
      ]
    },
    {
      "cell_type": "code",
      "source": [
        "print(person)"
      ],
      "metadata": {
        "colab": {
          "base_uri": "https://localhost:8080/"
        },
        "id": "RwZCPqxGypH0",
        "outputId": "db865d7e-c1b7-44c3-f1b9-1975e8677873"
      },
      "execution_count": 5,
      "outputs": [
        {
          "output_type": "stream",
          "name": "stdout",
          "text": [
            "{'firstname': 'Hira', 'lastname': 'Ahmed', 'age': 35, 'city': 'Karachi', 'profession': 'Senior Project Manager', 'hobbies': ['gardening', 'movies', 'music']}\n"
          ]
        }
      ]
    },
    {
      "cell_type": "code",
      "source": [
        "del person[\"hobbies\"] #deleting from an existing dictionary. Delete key \"hobbies\"\n",
        "person"
      ],
      "metadata": {
        "colab": {
          "base_uri": "https://localhost:8080/"
        },
        "id": "_LGLKkn9z_w6",
        "outputId": "0d96c5ac-0691-40f6-fdc5-947d48095838"
      },
      "execution_count": 6,
      "outputs": [
        {
          "output_type": "execute_result",
          "data": {
            "text/plain": [
              "{'firstname': 'Hira',\n",
              " 'lastname': 'Ahmed',\n",
              " 'age': 35,\n",
              " 'city': 'Karachi',\n",
              " 'profession': 'Senior Project Manager'}"
            ]
          },
          "metadata": {},
          "execution_count": 6
        }
      ]
    },
    {
      "cell_type": "code",
      "source": [
        "person.keys() #this prints all the key names"
      ],
      "metadata": {
        "colab": {
          "base_uri": "https://localhost:8080/"
        },
        "id": "Q77eVkGN1cJp",
        "outputId": "012f6c12-4545-4d0e-d8f6-dad15b15bbf0"
      },
      "execution_count": 7,
      "outputs": [
        {
          "output_type": "execute_result",
          "data": {
            "text/plain": [
              "dict_keys(['firstname', 'lastname', 'age', 'city', 'profession'])"
            ]
          },
          "metadata": {},
          "execution_count": 7
        }
      ]
    },
    {
      "cell_type": "code",
      "source": [
        "person.values() #this prints all the value elements"
      ],
      "metadata": {
        "colab": {
          "base_uri": "https://localhost:8080/"
        },
        "id": "BIdNM0wM1w32",
        "outputId": "764a3d07-9235-4e41-d588-a1a0919960ef"
      },
      "execution_count": 8,
      "outputs": [
        {
          "output_type": "execute_result",
          "data": {
            "text/plain": [
              "dict_values(['Hira', 'Ahmed', 35, 'Karachi', 'Senior Project Manager'])"
            ]
          },
          "metadata": {},
          "execution_count": 8
        }
      ]
    },
    {
      "cell_type": "code",
      "source": [
        "# Checking if a key exists in a dictionary\n",
        "person = {\"name\": \"Alice\", \"age\": 30, \"city\": \"New York\"}\n",
        "\n",
        "if \"name\" in person:\n",
        "    print(\"Name exists in the dictionary.\")\n",
        "else:\n",
        "    print(\"Name does not exist in the dictionary.\")"
      ],
      "metadata": {
        "colab": {
          "base_uri": "https://localhost:8080/"
        },
        "id": "cl-AR3lu1z0W",
        "outputId": "080c105f-98c1-43b7-9fd4-576302f21d8c"
      },
      "execution_count": 9,
      "outputs": [
        {
          "output_type": "stream",
          "name": "stdout",
          "text": [
            "Name exists in the dictionary.\n"
          ]
        }
      ]
    },
    {
      "cell_type": "code",
      "source": [
        "person = {\"firstname\":\"Hira\", \"lastname\":\"Ahmed\",\"age\":35,\"city\":\"Karachi\",\"profession\":\"Project Manager\"}\n",
        "person.get(\"firstname\")"
      ],
      "metadata": {
        "colab": {
          "base_uri": "https://localhost:8080/",
          "height": 35
        },
        "id": "468wbMiq4J_m",
        "outputId": "89845544-bc33-4f4d-bf6c-bef6a8617663"
      },
      "execution_count": 10,
      "outputs": [
        {
          "output_type": "execute_result",
          "data": {
            "text/plain": [
              "'Hira'"
            ],
            "application/vnd.google.colaboratory.intrinsic+json": {
              "type": "string"
            }
          },
          "metadata": {},
          "execution_count": 10
        }
      ]
    },
    {
      "cell_type": "markdown",
      "source": [
        "# **TASK**"
      ],
      "metadata": {
        "id": "6oFp37MI7w6C"
      }
    },
    {
      "cell_type": "code",
      "source": [
        "favorite_movie = {\"Title\":\"Openheimer\", \"Director\":\"C. Nolan\", \"genre\":\"Action/Sci-Fi\"}\n",
        "favorite_movie\n"
      ],
      "metadata": {
        "colab": {
          "base_uri": "https://localhost:8080/"
        },
        "id": "cKf1OAh45r_p",
        "outputId": "e69bddbe-6033-4df3-92bf-af90a2e14011"
      },
      "execution_count": 12,
      "outputs": [
        {
          "output_type": "execute_result",
          "data": {
            "text/plain": [
              "{'Title': 'Openheimer', 'Director': 'C. Nolan', 'genre': 'Action/Sci-Fi'}"
            ]
          },
          "metadata": {},
          "execution_count": 12
        }
      ]
    },
    {
      "cell_type": "code",
      "source": [
        "for i in favorite_movie:\n",
        "  print(\"key:\", i)\n",
        "  print(\"value:\", favorite_movie[i])"
      ],
      "metadata": {
        "colab": {
          "base_uri": "https://localhost:8080/"
        },
        "id": "O28rQPFr8v23",
        "outputId": "06b13657-95ca-4176-e1ad-8625e6dfe882"
      },
      "execution_count": 13,
      "outputs": [
        {
          "output_type": "stream",
          "name": "stdout",
          "text": [
            "key: Title\n",
            "value: Openheimer\n",
            "key: Director\n",
            "value: C. Nolan\n",
            "key: genre\n",
            "value: Action/Sci-Fi\n"
          ]
        }
      ]
    },
    {
      "cell_type": "code",
      "source": [
        "favorite_movie.items()"
      ],
      "metadata": {
        "colab": {
          "base_uri": "https://localhost:8080/"
        },
        "id": "W2IUzyxk_W5m",
        "outputId": "ce38fae6-a678-4ea3-faa7-2635c95f9fb8"
      },
      "execution_count": 14,
      "outputs": [
        {
          "output_type": "execute_result",
          "data": {
            "text/plain": [
              "dict_items([('Title', 'Openheimer'), ('Director', 'C. Nolan'), ('genre', 'Action/Sci-Fi')])"
            ]
          },
          "metadata": {},
          "execution_count": 14
        }
      ]
    },
    {
      "cell_type": "markdown",
      "source": [
        "# **TUPLES**"
      ],
      "metadata": {
        "id": "e3a2lq_R_f2e"
      }
    },
    {
      "cell_type": "code",
      "source": [
        "tuple1 = (1,2,3)\n",
        "tuple2 = (4,5,6)\n",
        "concat_tuple = tuple1+tuple2\n",
        "print(concat_tuple)"
      ],
      "metadata": {
        "colab": {
          "base_uri": "https://localhost:8080/"
        },
        "id": "Q2vQa3CH_ciF",
        "outputId": "32b7dd57-7ee8-4671-df92-a74ae3624b28"
      },
      "execution_count": 15,
      "outputs": [
        {
          "output_type": "stream",
          "name": "stdout",
          "text": [
            "(1, 2, 3, 4, 5, 6)\n"
          ]
        }
      ]
    },
    {
      "cell_type": "code",
      "source": [
        "tuple1 = (1,2,3)\n",
        "repeat = tuple1*4\n",
        "print(repeat)"
      ],
      "metadata": {
        "colab": {
          "base_uri": "https://localhost:8080/"
        },
        "id": "nlARV_3JC6MO",
        "outputId": "d654a14c-43b4-44b0-b980-db6ffe9815d8"
      },
      "execution_count": 17,
      "outputs": [
        {
          "output_type": "stream",
          "name": "stdout",
          "text": [
            "(1, 2, 3, 1, 2, 3, 1, 2, 3, 1, 2, 3)\n"
          ]
        }
      ]
    },
    {
      "cell_type": "code",
      "source": [
        "print(6 in tuple1)"
      ],
      "metadata": {
        "colab": {
          "base_uri": "https://localhost:8080/"
        },
        "id": "2AUt6TUUDBSG",
        "outputId": "0a40a8a0-347a-42a0-9723-f9bd6ef69368"
      },
      "execution_count": 18,
      "outputs": [
        {
          "output_type": "stream",
          "name": "stdout",
          "text": [
            "False\n"
          ]
        }
      ]
    },
    {
      "cell_type": "code",
      "source": [
        "tuple1 = (1,2,3) #Tuple - packing and unpacking values\n",
        "a,b,c = tuple1\n",
        "print(a)\n",
        "print(b)\n",
        "print(c)\n",
        "#Output will be unpacked values"
      ],
      "metadata": {
        "colab": {
          "base_uri": "https://localhost:8080/"
        },
        "id": "d4WgyMGLDMDD",
        "outputId": "07bf0df6-d3c6-4f0c-c1c3-4db036c0c262"
      },
      "execution_count": 20,
      "outputs": [
        {
          "output_type": "stream",
          "name": "stdout",
          "text": [
            "1\n",
            "2\n",
            "3\n"
          ]
        }
      ]
    },
    {
      "cell_type": "code",
      "source": [
        "tuple1 = (1,2,3)\n",
        "\n",
        "for i in tuple1:\n",
        "  print(i)"
      ],
      "metadata": {
        "colab": {
          "base_uri": "https://localhost:8080/"
        },
        "id": "ypzvBeLXDzJu",
        "outputId": "685d0c74-360d-4602-a12a-1b0cf986f8f3"
      },
      "execution_count": 22,
      "outputs": [
        {
          "output_type": "stream",
          "name": "stdout",
          "text": [
            "1\n",
            "2\n",
            "3\n"
          ]
        }
      ]
    },
    {
      "cell_type": "code",
      "source": [],
      "metadata": {
        "id": "VdEoqQAkFyJB"
      },
      "execution_count": null,
      "outputs": []
    }
  ]
}